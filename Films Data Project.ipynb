{
 "cells": [
  {
   "cell_type": "code",
   "execution_count": 1,
   "id": "1222fd01",
   "metadata": {},
   "outputs": [],
   "source": [
    "%matplotlib inline\n",
    "import pandas as pd\n"
   ]
  },
  {
   "cell_type": "code",
   "execution_count": 2,
   "id": "c76f1c39",
   "metadata": {},
   "outputs": [
    {
     "data": {
      "text/html": [
       "<div>\n",
       "<style scoped>\n",
       "    .dataframe tbody tr th:only-of-type {\n",
       "        vertical-align: middle;\n",
       "    }\n",
       "\n",
       "    .dataframe tbody tr th {\n",
       "        vertical-align: top;\n",
       "    }\n",
       "\n",
       "    .dataframe thead th {\n",
       "        text-align: right;\n",
       "    }\n",
       "</style>\n",
       "<table border=\"1\" class=\"dataframe\">\n",
       "  <thead>\n",
       "    <tr style=\"text-align: right;\">\n",
       "      <th></th>\n",
       "      <th>title</th>\n",
       "      <th>year</th>\n",
       "      <th>name</th>\n",
       "      <th>type</th>\n",
       "      <th>character</th>\n",
       "      <th>n</th>\n",
       "    </tr>\n",
       "  </thead>\n",
       "  <tbody>\n",
       "    <tr>\n",
       "      <th>0</th>\n",
       "      <td>Suuri illusioni</td>\n",
       "      <td>1985</td>\n",
       "      <td>Homo $</td>\n",
       "      <td>actor</td>\n",
       "      <td>Guests</td>\n",
       "      <td>22.0</td>\n",
       "    </tr>\n",
       "    <tr>\n",
       "      <th>1</th>\n",
       "      <td>Gangsta Rap: The Glockumentary</td>\n",
       "      <td>2007</td>\n",
       "      <td>Too $hort</td>\n",
       "      <td>actor</td>\n",
       "      <td>Himself</td>\n",
       "      <td>NaN</td>\n",
       "    </tr>\n",
       "    <tr>\n",
       "      <th>2</th>\n",
       "      <td>Menace II Society</td>\n",
       "      <td>1993</td>\n",
       "      <td>Too $hort</td>\n",
       "      <td>actor</td>\n",
       "      <td>Lew-Loc</td>\n",
       "      <td>27.0</td>\n",
       "    </tr>\n",
       "    <tr>\n",
       "      <th>3</th>\n",
       "      <td>Porndogs: The Adventures of Sadie</td>\n",
       "      <td>2009</td>\n",
       "      <td>Too $hort</td>\n",
       "      <td>actor</td>\n",
       "      <td>Bosco</td>\n",
       "      <td>3.0</td>\n",
       "    </tr>\n",
       "    <tr>\n",
       "      <th>4</th>\n",
       "      <td>Stop Pepper Palmer</td>\n",
       "      <td>2014</td>\n",
       "      <td>Too $hort</td>\n",
       "      <td>actor</td>\n",
       "      <td>Himself</td>\n",
       "      <td>NaN</td>\n",
       "    </tr>\n",
       "  </tbody>\n",
       "</table>\n",
       "</div>"
      ],
      "text/plain": [
       "                               title  year       name   type character     n\n",
       "0                    Suuri illusioni  1985     Homo $  actor    Guests  22.0\n",
       "1     Gangsta Rap: The Glockumentary  2007  Too $hort  actor   Himself   NaN\n",
       "2                  Menace II Society  1993  Too $hort  actor   Lew-Loc  27.0\n",
       "3  Porndogs: The Adventures of Sadie  2009  Too $hort  actor     Bosco   3.0\n",
       "4                 Stop Pepper Palmer  2014  Too $hort  actor   Himself   NaN"
      ]
     },
     "execution_count": 2,
     "metadata": {},
     "output_type": "execute_result"
    }
   ],
   "source": [
    "fl=pd.read_csv(r'C:\\Users\\other user\\Downloads\\Films_Data\\Films_Data\\cast.csv')\n",
    "fl.head()"
   ]
  },
  {
   "cell_type": "code",
   "execution_count": 3,
   "id": "3a4d80af",
   "metadata": {},
   "outputs": [
    {
     "data": {
      "text/plain": [
       "3311647"
      ]
     },
     "execution_count": 3,
     "metadata": {},
     "output_type": "execute_result"
    }
   ],
   "source": [
    "len(fl)"
   ]
  },
  {
   "cell_type": "code",
   "execution_count": 4,
   "id": "9a7e578f",
   "metadata": {},
   "outputs": [
    {
     "data": {
      "text/html": [
       "<div>\n",
       "<style scoped>\n",
       "    .dataframe tbody tr th:only-of-type {\n",
       "        vertical-align: middle;\n",
       "    }\n",
       "\n",
       "    .dataframe tbody tr th {\n",
       "        vertical-align: top;\n",
       "    }\n",
       "\n",
       "    .dataframe thead th {\n",
       "        text-align: right;\n",
       "    }\n",
       "</style>\n",
       "<table border=\"1\" class=\"dataframe\">\n",
       "  <thead>\n",
       "    <tr style=\"text-align: right;\">\n",
       "      <th></th>\n",
       "      <th>title</th>\n",
       "      <th>year</th>\n",
       "      <th>name</th>\n",
       "      <th>type</th>\n",
       "      <th>character</th>\n",
       "      <th>n</th>\n",
       "    </tr>\n",
       "  </thead>\n",
       "  <tbody>\n",
       "    <tr>\n",
       "      <th>511376</th>\n",
       "      <td>Miss Jerry</td>\n",
       "      <td>1894</td>\n",
       "      <td>Chauncey Depew</td>\n",
       "      <td>actor</td>\n",
       "      <td>Himself - the Director of the New York Central...</td>\n",
       "      <td>NaN</td>\n",
       "    </tr>\n",
       "    <tr>\n",
       "      <th>427108</th>\n",
       "      <td>Miss Jerry</td>\n",
       "      <td>1894</td>\n",
       "      <td>William Courtenay</td>\n",
       "      <td>actor</td>\n",
       "      <td>Mr. Hamilton</td>\n",
       "      <td>NaN</td>\n",
       "    </tr>\n",
       "  </tbody>\n",
       "</table>\n",
       "</div>"
      ],
      "text/plain": [
       "             title  year               name   type  \\\n",
       "511376  Miss Jerry  1894     Chauncey Depew  actor   \n",
       "427108  Miss Jerry  1894  William Courtenay  actor   \n",
       "\n",
       "                                                character   n  \n",
       "511376  Himself - the Director of the New York Central... NaN  \n",
       "427108                                       Mr. Hamilton NaN  "
      ]
     },
     "execution_count": 4,
     "metadata": {},
     "output_type": "execute_result"
    }
   ],
   "source": [
    "fl.sort_values('year').head(2)"
   ]
  },
  {
   "cell_type": "code",
   "execution_count": 5,
   "id": "2729821d",
   "metadata": {},
   "outputs": [
    {
     "data": {
      "text/plain": [
       "title        299\n",
       "year         299\n",
       "name         299\n",
       "type         299\n",
       "character    299\n",
       "n            234\n",
       "dtype: int64"
      ]
     },
     "execution_count": 5,
     "metadata": {},
     "output_type": "execute_result"
    }
   ],
   "source": [
    "fl[fl.title== 'Hamlet'].count()"
   ]
  },
  {
   "cell_type": "code",
   "execution_count": 6,
   "id": "f3dd0d00",
   "metadata": {},
   "outputs": [
    {
     "data": {
      "text/plain": [
       "title        111\n",
       "year         111\n",
       "name         111\n",
       "type         111\n",
       "character    111\n",
       "n             16\n",
       "dtype: int64"
      ]
     },
     "execution_count": 6,
     "metadata": {},
     "output_type": "execute_result"
    }
   ],
   "source": [
    "fl[fl.title=='North by Northwest'].count()"
   ]
  },
  {
   "cell_type": "code",
   "execution_count": 7,
   "id": "97c5535c",
   "metadata": {},
   "outputs": [
    {
     "data": {
      "text/html": [
       "<div>\n",
       "<style scoped>\n",
       "    .dataframe tbody tr th:only-of-type {\n",
       "        vertical-align: middle;\n",
       "    }\n",
       "\n",
       "    .dataframe tbody tr th {\n",
       "        vertical-align: top;\n",
       "    }\n",
       "\n",
       "    .dataframe thead th {\n",
       "        text-align: right;\n",
       "    }\n",
       "</style>\n",
       "<table border=\"1\" class=\"dataframe\">\n",
       "  <thead>\n",
       "    <tr style=\"text-align: right;\">\n",
       "      <th></th>\n",
       "      <th>title</th>\n",
       "      <th>year</th>\n",
       "      <th>name</th>\n",
       "      <th>type</th>\n",
       "      <th>character</th>\n",
       "      <th>n</th>\n",
       "    </tr>\n",
       "  </thead>\n",
       "  <tbody>\n",
       "    <tr>\n",
       "      <th>1422895</th>\n",
       "      <td>Hamlet</td>\n",
       "      <td>1910</td>\n",
       "      <td>Jean Mounet-Sully</td>\n",
       "      <td>actor</td>\n",
       "      <td>Hamlet</td>\n",
       "      <td>NaN</td>\n",
       "    </tr>\n",
       "  </tbody>\n",
       "</table>\n",
       "</div>"
      ],
      "text/plain": [
       "          title  year               name   type character   n\n",
       "1422895  Hamlet  1910  Jean Mounet-Sully  actor    Hamlet NaN"
      ]
     },
     "execution_count": 7,
     "metadata": {},
     "output_type": "execute_result"
    }
   ],
   "source": [
    "fl[fl.title=='Hamlet'].sort_values(by ='year').head(1)"
   ]
  },
  {
   "cell_type": "code",
   "execution_count": 8,
   "id": "3738c6e4",
   "metadata": {},
   "outputs": [
    {
     "data": {
      "text/html": [
       "<div>\n",
       "<style scoped>\n",
       "    .dataframe tbody tr th:only-of-type {\n",
       "        vertical-align: middle;\n",
       "    }\n",
       "\n",
       "    .dataframe tbody tr th {\n",
       "        vertical-align: top;\n",
       "    }\n",
       "\n",
       "    .dataframe thead th {\n",
       "        text-align: right;\n",
       "    }\n",
       "</style>\n",
       "<table border=\"1\" class=\"dataframe\">\n",
       "  <thead>\n",
       "    <tr style=\"text-align: right;\">\n",
       "      <th></th>\n",
       "      <th>title</th>\n",
       "      <th>year</th>\n",
       "      <th>name</th>\n",
       "      <th>type</th>\n",
       "      <th>character</th>\n",
       "      <th>n</th>\n",
       "    </tr>\n",
       "  </thead>\n",
       "  <tbody>\n",
       "    <tr>\n",
       "      <th>1304778</th>\n",
       "      <td>Treasure Island</td>\n",
       "      <td>1918</td>\n",
       "      <td>Herschel Mayall</td>\n",
       "      <td>actor</td>\n",
       "      <td>Prologue Player</td>\n",
       "      <td>NaN</td>\n",
       "    </tr>\n",
       "    <tr>\n",
       "      <th>3258893</th>\n",
       "      <td>Treasure Island</td>\n",
       "      <td>1918</td>\n",
       "      <td>Eleanor Washington</td>\n",
       "      <td>actress</td>\n",
       "      <td>Prologue Player</td>\n",
       "      <td>NaN</td>\n",
       "    </tr>\n",
       "    <tr>\n",
       "      <th>3026895</th>\n",
       "      <td>Treasure Island</td>\n",
       "      <td>1918</td>\n",
       "      <td>Violet Radcliffe</td>\n",
       "      <td>actress</td>\n",
       "      <td>Long John Silver</td>\n",
       "      <td>3.0</td>\n",
       "    </tr>\n",
       "    <tr>\n",
       "      <th>1160631</th>\n",
       "      <td>Treasure Island</td>\n",
       "      <td>1918</td>\n",
       "      <td>Raymond Lee</td>\n",
       "      <td>actor</td>\n",
       "      <td>Bit Role</td>\n",
       "      <td>NaN</td>\n",
       "    </tr>\n",
       "    <tr>\n",
       "      <th>1188122</th>\n",
       "      <td>Treasure Island</td>\n",
       "      <td>1918</td>\n",
       "      <td>Elmo Lincoln</td>\n",
       "      <td>actor</td>\n",
       "      <td>Prologue Player</td>\n",
       "      <td>NaN</td>\n",
       "    </tr>\n",
       "    <tr>\n",
       "      <th>...</th>\n",
       "      <td>...</td>\n",
       "      <td>...</td>\n",
       "      <td>...</td>\n",
       "      <td>...</td>\n",
       "      <td>...</td>\n",
       "      <td>...</td>\n",
       "    </tr>\n",
       "    <tr>\n",
       "      <th>1653669</th>\n",
       "      <td>Treasure Island</td>\n",
       "      <td>1999</td>\n",
       "      <td>Victor Raider-Wexler</td>\n",
       "      <td>actor</td>\n",
       "      <td>Samowitz</td>\n",
       "      <td>10.0</td>\n",
       "    </tr>\n",
       "    <tr>\n",
       "      <th>1720561</th>\n",
       "      <td>Treasure Island</td>\n",
       "      <td>1999</td>\n",
       "      <td>Scot Thomas Robinson</td>\n",
       "      <td>actor</td>\n",
       "      <td>Jimmy</td>\n",
       "      <td>11.0</td>\n",
       "    </tr>\n",
       "    <tr>\n",
       "      <th>1802485</th>\n",
       "      <td>Treasure Island</td>\n",
       "      <td>1999</td>\n",
       "      <td>Richard Schave</td>\n",
       "      <td>actor</td>\n",
       "      <td>Man</td>\n",
       "      <td>21.0</td>\n",
       "    </tr>\n",
       "    <tr>\n",
       "      <th>2693149</th>\n",
       "      <td>Treasure Island</td>\n",
       "      <td>1999</td>\n",
       "      <td>Stephanie Ittleson</td>\n",
       "      <td>actress</td>\n",
       "      <td>Stella</td>\n",
       "      <td>7.0</td>\n",
       "    </tr>\n",
       "    <tr>\n",
       "      <th>810348</th>\n",
       "      <td>Treasure Island</td>\n",
       "      <td>1999</td>\n",
       "      <td>Rio Hackford</td>\n",
       "      <td>actor</td>\n",
       "      <td>Hans</td>\n",
       "      <td>23.0</td>\n",
       "    </tr>\n",
       "  </tbody>\n",
       "</table>\n",
       "<p>187 rows × 6 columns</p>\n",
       "</div>"
      ],
      "text/plain": [
       "                   title  year                  name     type  \\\n",
       "1304778  Treasure Island  1918       Herschel Mayall    actor   \n",
       "3258893  Treasure Island  1918    Eleanor Washington  actress   \n",
       "3026895  Treasure Island  1918      Violet Radcliffe  actress   \n",
       "1160631  Treasure Island  1918           Raymond Lee    actor   \n",
       "1188122  Treasure Island  1918          Elmo Lincoln    actor   \n",
       "...                  ...   ...                   ...      ...   \n",
       "1653669  Treasure Island  1999  Victor Raider-Wexler    actor   \n",
       "1720561  Treasure Island  1999  Scot Thomas Robinson    actor   \n",
       "1802485  Treasure Island  1999        Richard Schave    actor   \n",
       "2693149  Treasure Island  1999    Stephanie Ittleson  actress   \n",
       "810348   Treasure Island  1999          Rio Hackford    actor   \n",
       "\n",
       "                character     n  \n",
       "1304778   Prologue Player   NaN  \n",
       "3258893   Prologue Player   NaN  \n",
       "3026895  Long John Silver   3.0  \n",
       "1160631          Bit Role   NaN  \n",
       "1188122   Prologue Player   NaN  \n",
       "...                   ...   ...  \n",
       "1653669          Samowitz  10.0  \n",
       "1720561             Jimmy  11.0  \n",
       "1802485               Man  21.0  \n",
       "2693149            Stella   7.0  \n",
       "810348               Hans  23.0  \n",
       "\n",
       "[187 rows x 6 columns]"
      ]
     },
     "execution_count": 8,
     "metadata": {},
     "output_type": "execute_result"
    }
   ],
   "source": [
    "fl[fl.title== 'Treasure Island'].sort_values(by= 'year')"
   ]
  },
  {
   "cell_type": "code",
   "execution_count": 9,
   "id": "50e361d8",
   "metadata": {},
   "outputs": [
    {
     "data": {
      "text/plain": [
       "title        21414\n",
       "year         21414\n",
       "name         21414\n",
       "type         21414\n",
       "character    21414\n",
       "n            10377\n",
       "dtype: int64"
      ]
     },
     "execution_count": 9,
     "metadata": {},
     "output_type": "execute_result"
    }
   ],
   "source": [
    "fl[fl.year== 1950].count()"
   ]
  },
  {
   "cell_type": "code",
   "execution_count": 10,
   "id": "23e53487",
   "metadata": {},
   "outputs": [
    {
     "data": {
      "text/plain": [
       "17163"
      ]
     },
     "execution_count": 10,
     "metadata": {},
     "output_type": "execute_result"
    }
   ],
   "source": [
    "len(fl[fl.year == 1960])"
   ]
  },
  {
   "cell_type": "code",
   "execution_count": 11,
   "id": "5f7bca84",
   "metadata": {},
   "outputs": [
    {
     "data": {
      "text/plain": [
       "17163"
      ]
     },
     "execution_count": 11,
     "metadata": {},
     "output_type": "execute_result"
    }
   ],
   "source": [
    "len(fl[(fl.year >= 1960)&(fl.year<= 1960)])"
   ]
  },
  {
   "cell_type": "code",
   "execution_count": 12,
   "id": "84cb58be",
   "metadata": {},
   "outputs": [
    {
     "data": {
      "text/html": [
       "<div>\n",
       "<style scoped>\n",
       "    .dataframe tbody tr th:only-of-type {\n",
       "        vertical-align: middle;\n",
       "    }\n",
       "\n",
       "    .dataframe tbody tr th {\n",
       "        vertical-align: top;\n",
       "    }\n",
       "\n",
       "    .dataframe thead th {\n",
       "        text-align: right;\n",
       "    }\n",
       "</style>\n",
       "<table border=\"1\" class=\"dataframe\">\n",
       "  <thead>\n",
       "    <tr style=\"text-align: right;\">\n",
       "      <th></th>\n",
       "      <th>title</th>\n",
       "      <th>year</th>\n",
       "      <th>name</th>\n",
       "      <th>type</th>\n",
       "      <th>character</th>\n",
       "      <th>n</th>\n",
       "    </tr>\n",
       "  </thead>\n",
       "  <tbody>\n",
       "    <tr>\n",
       "      <th>86823</th>\n",
       "      <td>Batman</td>\n",
       "      <td>1943</td>\n",
       "      <td>Frank Austin</td>\n",
       "      <td>actor</td>\n",
       "      <td>Hotel Clerk</td>\n",
       "      <td>NaN</td>\n",
       "    </tr>\n",
       "    <tr>\n",
       "      <th>87293</th>\n",
       "      <td>Batman</td>\n",
       "      <td>1943</td>\n",
       "      <td>William Austin</td>\n",
       "      <td>actor</td>\n",
       "      <td>Alfred Pennyworth</td>\n",
       "      <td>NaN</td>\n",
       "    </tr>\n",
       "    <tr>\n",
       "      <th>103458</th>\n",
       "      <td>Batman</td>\n",
       "      <td>1989</td>\n",
       "      <td>Del Baker</td>\n",
       "      <td>actor</td>\n",
       "      <td>Napier Hood</td>\n",
       "      <td>31.0</td>\n",
       "    </tr>\n",
       "    <tr>\n",
       "      <th>108462</th>\n",
       "      <td>Batman</td>\n",
       "      <td>1989</td>\n",
       "      <td>Michael Balfour</td>\n",
       "      <td>actor</td>\n",
       "      <td>Scientist</td>\n",
       "      <td>44.0</td>\n",
       "    </tr>\n",
       "    <tr>\n",
       "      <th>136328</th>\n",
       "      <td>Batman</td>\n",
       "      <td>1989</td>\n",
       "      <td>David Baxt</td>\n",
       "      <td>actor</td>\n",
       "      <td>Dr. Thomas Wayne</td>\n",
       "      <td>48.0</td>\n",
       "    </tr>\n",
       "    <tr>\n",
       "      <th>...</th>\n",
       "      <td>...</td>\n",
       "      <td>...</td>\n",
       "      <td>...</td>\n",
       "      <td>...</td>\n",
       "      <td>...</td>\n",
       "      <td>...</td>\n",
       "    </tr>\n",
       "    <tr>\n",
       "      <th>2670935</th>\n",
       "      <td>Batman</td>\n",
       "      <td>1989</td>\n",
       "      <td>Sharon Holm</td>\n",
       "      <td>actress</td>\n",
       "      <td>Mrs. Wayne</td>\n",
       "      <td>49.0</td>\n",
       "    </tr>\n",
       "    <tr>\n",
       "      <th>2986141</th>\n",
       "      <td>Batman</td>\n",
       "      <td>1943</td>\n",
       "      <td>Shirley Patterson</td>\n",
       "      <td>actress</td>\n",
       "      <td>Linda Page</td>\n",
       "      <td>4.0</td>\n",
       "    </tr>\n",
       "    <tr>\n",
       "      <th>3068614</th>\n",
       "      <td>Batman</td>\n",
       "      <td>1989</td>\n",
       "      <td>Pam Rose</td>\n",
       "      <td>actress</td>\n",
       "      <td>Party Guest at Wayne Manor</td>\n",
       "      <td>NaN</td>\n",
       "    </tr>\n",
       "    <tr>\n",
       "      <th>3070373</th>\n",
       "      <td>Batman</td>\n",
       "      <td>1989</td>\n",
       "      <td>Liza Ross</td>\n",
       "      <td>actress</td>\n",
       "      <td>Tourist Mom</td>\n",
       "      <td>45.0</td>\n",
       "    </tr>\n",
       "    <tr>\n",
       "      <th>3080427</th>\n",
       "      <td>Batman</td>\n",
       "      <td>1989</td>\n",
       "      <td>Rachel Ryan</td>\n",
       "      <td>actress</td>\n",
       "      <td>Corpse</td>\n",
       "      <td>NaN</td>\n",
       "    </tr>\n",
       "  </tbody>\n",
       "</table>\n",
       "<p>118 rows × 6 columns</p>\n",
       "</div>"
      ],
      "text/plain": [
       "          title  year               name     type                   character  \\\n",
       "86823    Batman  1943       Frank Austin    actor                 Hotel Clerk   \n",
       "87293    Batman  1943     William Austin    actor           Alfred Pennyworth   \n",
       "103458   Batman  1989          Del Baker    actor                 Napier Hood   \n",
       "108462   Batman  1989    Michael Balfour    actor                   Scientist   \n",
       "136328   Batman  1989         David Baxt    actor            Dr. Thomas Wayne   \n",
       "...         ...   ...                ...      ...                         ...   \n",
       "2670935  Batman  1989        Sharon Holm  actress                  Mrs. Wayne   \n",
       "2986141  Batman  1943  Shirley Patterson  actress                  Linda Page   \n",
       "3068614  Batman  1989           Pam Rose  actress  Party Guest at Wayne Manor   \n",
       "3070373  Batman  1989          Liza Ross  actress                 Tourist Mom   \n",
       "3080427  Batman  1989        Rachel Ryan  actress                      Corpse   \n",
       "\n",
       "            n  \n",
       "86823     NaN  \n",
       "87293     NaN  \n",
       "103458   31.0  \n",
       "108462   44.0  \n",
       "136328   48.0  \n",
       "...       ...  \n",
       "2670935  49.0  \n",
       "2986141   4.0  \n",
       "3068614   NaN  \n",
       "3070373  45.0  \n",
       "3080427   NaN  \n",
       "\n",
       "[118 rows x 6 columns]"
      ]
     },
     "execution_count": 12,
     "metadata": {},
     "output_type": "execute_result"
    }
   ],
   "source": [
    "fl[fl.title=='Batman']"
   ]
  },
  {
   "cell_type": "code",
   "execution_count": 13,
   "id": "d7e389c7",
   "metadata": {},
   "outputs": [
    {
     "data": {
      "text/plain": [
       "72"
      ]
     },
     "execution_count": 13,
     "metadata": {},
     "output_type": "execute_result"
    }
   ],
   "source": [
    "len(fl[fl.title== \"Inception\"])"
   ]
  },
  {
   "cell_type": "code",
   "execution_count": 14,
   "id": "cbe4bc22",
   "metadata": {},
   "outputs": [
    {
     "data": {
      "text/plain": [
       "21"
      ]
     },
     "execution_count": 14,
     "metadata": {},
     "output_type": "execute_result"
    }
   ],
   "source": [
    "len(fl[(fl.title == \"Inception\") & (fl.n.isnull())])"
   ]
  },
  {
   "cell_type": "code",
   "execution_count": 15,
   "id": "0c2f6de0",
   "metadata": {},
   "outputs": [
    {
     "data": {
      "text/plain": [
       "51"
      ]
     },
     "execution_count": 15,
     "metadata": {},
     "output_type": "execute_result"
    }
   ],
   "source": [
    "len(fl[(fl.title ==\"Inception\") & (fl.n.notnull())])"
   ]
  },
  {
   "cell_type": "code",
   "execution_count": 16,
   "id": "0a02173c",
   "metadata": {},
   "outputs": [
    {
     "data": {
      "text/html": [
       "<div>\n",
       "<style scoped>\n",
       "    .dataframe tbody tr th:only-of-type {\n",
       "        vertical-align: middle;\n",
       "    }\n",
       "\n",
       "    .dataframe tbody tr th {\n",
       "        vertical-align: top;\n",
       "    }\n",
       "\n",
       "    .dataframe thead th {\n",
       "        text-align: right;\n",
       "    }\n",
       "</style>\n",
       "<table border=\"1\" class=\"dataframe\">\n",
       "  <thead>\n",
       "    <tr style=\"text-align: right;\">\n",
       "      <th></th>\n",
       "      <th>title</th>\n",
       "      <th>year</th>\n",
       "      <th>name</th>\n",
       "      <th>type</th>\n",
       "      <th>character</th>\n",
       "      <th>n</th>\n",
       "    </tr>\n",
       "  </thead>\n",
       "  <tbody>\n",
       "    <tr>\n",
       "      <th>773496</th>\n",
       "      <td>North by Northwest</td>\n",
       "      <td>1959</td>\n",
       "      <td>Cary Grant</td>\n",
       "      <td>actor</td>\n",
       "      <td>Roger O. Thornhill</td>\n",
       "      <td>1.0</td>\n",
       "    </tr>\n",
       "    <tr>\n",
       "      <th>3084579</th>\n",
       "      <td>North by Northwest</td>\n",
       "      <td>1959</td>\n",
       "      <td>Eva Marie Saint</td>\n",
       "      <td>actress</td>\n",
       "      <td>Eve Kendall</td>\n",
       "      <td>2.0</td>\n",
       "    </tr>\n",
       "    <tr>\n",
       "      <th>1292652</th>\n",
       "      <td>North by Northwest</td>\n",
       "      <td>1959</td>\n",
       "      <td>James Mason</td>\n",
       "      <td>actor</td>\n",
       "      <td>Phillip Vandamm</td>\n",
       "      <td>3.0</td>\n",
       "    </tr>\n",
       "    <tr>\n",
       "      <th>2776446</th>\n",
       "      <td>North by Northwest</td>\n",
       "      <td>1959</td>\n",
       "      <td>Jessie Royce Landis</td>\n",
       "      <td>actress</td>\n",
       "      <td>Clara Thornhill</td>\n",
       "      <td>4.0</td>\n",
       "    </tr>\n",
       "    <tr>\n",
       "      <th>315343</th>\n",
       "      <td>North by Northwest</td>\n",
       "      <td>1959</td>\n",
       "      <td>Leo G. Carroll</td>\n",
       "      <td>actor</td>\n",
       "      <td>The Professor</td>\n",
       "      <td>5.0</td>\n",
       "    </tr>\n",
       "    <tr>\n",
       "      <th>2685171</th>\n",
       "      <td>North by Northwest</td>\n",
       "      <td>1959</td>\n",
       "      <td>Josephine Hutchinson</td>\n",
       "      <td>actress</td>\n",
       "      <td>Mrs. Townsend</td>\n",
       "      <td>6.0</td>\n",
       "    </tr>\n",
       "    <tr>\n",
       "      <th>1504777</th>\n",
       "      <td>North by Northwest</td>\n",
       "      <td>1959</td>\n",
       "      <td>Philip Ober</td>\n",
       "      <td>actor</td>\n",
       "      <td>Lester Townsend</td>\n",
       "      <td>7.0</td>\n",
       "    </tr>\n",
       "    <tr>\n",
       "      <th>1130557</th>\n",
       "      <td>North by Northwest</td>\n",
       "      <td>1959</td>\n",
       "      <td>Martin Landau</td>\n",
       "      <td>actor</td>\n",
       "      <td>Leonard</td>\n",
       "      <td>8.0</td>\n",
       "    </tr>\n",
       "    <tr>\n",
       "      <th>2167754</th>\n",
       "      <td>North by Northwest</td>\n",
       "      <td>1959</td>\n",
       "      <td>Adam Williams</td>\n",
       "      <td>actor</td>\n",
       "      <td>Valerian</td>\n",
       "      <td>9.0</td>\n",
       "    </tr>\n",
       "    <tr>\n",
       "      <th>1607029</th>\n",
       "      <td>North by Northwest</td>\n",
       "      <td>1959</td>\n",
       "      <td>Edward Platt</td>\n",
       "      <td>actor</td>\n",
       "      <td>Victor Larrabee</td>\n",
       "      <td>10.0</td>\n",
       "    </tr>\n",
       "    <tr>\n",
       "      <th>590702</th>\n",
       "      <td>North by Northwest</td>\n",
       "      <td>1959</td>\n",
       "      <td>Robert Ellenstein</td>\n",
       "      <td>actor</td>\n",
       "      <td>Licht</td>\n",
       "      <td>11.0</td>\n",
       "    </tr>\n",
       "    <tr>\n",
       "      <th>2033529</th>\n",
       "      <td>North by Northwest</td>\n",
       "      <td>1959</td>\n",
       "      <td>Les Tremayne</td>\n",
       "      <td>actor</td>\n",
       "      <td>Auctioneer</td>\n",
       "      <td>12.0</td>\n",
       "    </tr>\n",
       "    <tr>\n",
       "      <th>411247</th>\n",
       "      <td>North by Northwest</td>\n",
       "      <td>1959</td>\n",
       "      <td>Philip Coolidge</td>\n",
       "      <td>actor</td>\n",
       "      <td>Dr. Cross</td>\n",
       "      <td>13.0</td>\n",
       "    </tr>\n",
       "    <tr>\n",
       "      <th>1339004</th>\n",
       "      <td>North by Northwest</td>\n",
       "      <td>1959</td>\n",
       "      <td>Patrick McVey</td>\n",
       "      <td>actor</td>\n",
       "      <td>Sergeant Flamm</td>\n",
       "      <td>14.0</td>\n",
       "    </tr>\n",
       "    <tr>\n",
       "      <th>180985</th>\n",
       "      <td>North by Northwest</td>\n",
       "      <td>1959</td>\n",
       "      <td>Edward Binns</td>\n",
       "      <td>actor</td>\n",
       "      <td>Captain Junket</td>\n",
       "      <td>15.0</td>\n",
       "    </tr>\n",
       "    <tr>\n",
       "      <th>1228229</th>\n",
       "      <td>North by Northwest</td>\n",
       "      <td>1959</td>\n",
       "      <td>Ken Lynch</td>\n",
       "      <td>actor</td>\n",
       "      <td>Charley - Chicago Policeman</td>\n",
       "      <td>16.0</td>\n",
       "    </tr>\n",
       "  </tbody>\n",
       "</table>\n",
       "</div>"
      ],
      "text/plain": [
       "                      title  year                  name     type  \\\n",
       "773496   North by Northwest  1959            Cary Grant    actor   \n",
       "3084579  North by Northwest  1959       Eva Marie Saint  actress   \n",
       "1292652  North by Northwest  1959           James Mason    actor   \n",
       "2776446  North by Northwest  1959   Jessie Royce Landis  actress   \n",
       "315343   North by Northwest  1959        Leo G. Carroll    actor   \n",
       "2685171  North by Northwest  1959  Josephine Hutchinson  actress   \n",
       "1504777  North by Northwest  1959           Philip Ober    actor   \n",
       "1130557  North by Northwest  1959         Martin Landau    actor   \n",
       "2167754  North by Northwest  1959         Adam Williams    actor   \n",
       "1607029  North by Northwest  1959          Edward Platt    actor   \n",
       "590702   North by Northwest  1959     Robert Ellenstein    actor   \n",
       "2033529  North by Northwest  1959          Les Tremayne    actor   \n",
       "411247   North by Northwest  1959       Philip Coolidge    actor   \n",
       "1339004  North by Northwest  1959         Patrick McVey    actor   \n",
       "180985   North by Northwest  1959          Edward Binns    actor   \n",
       "1228229  North by Northwest  1959             Ken Lynch    actor   \n",
       "\n",
       "                           character     n  \n",
       "773496            Roger O. Thornhill   1.0  \n",
       "3084579                  Eve Kendall   2.0  \n",
       "1292652              Phillip Vandamm   3.0  \n",
       "2776446              Clara Thornhill   4.0  \n",
       "315343                 The Professor   5.0  \n",
       "2685171                Mrs. Townsend   6.0  \n",
       "1504777              Lester Townsend   7.0  \n",
       "1130557                      Leonard   8.0  \n",
       "2167754                     Valerian   9.0  \n",
       "1607029              Victor Larrabee  10.0  \n",
       "590702                         Licht  11.0  \n",
       "2033529                   Auctioneer  12.0  \n",
       "411247                     Dr. Cross  13.0  \n",
       "1339004               Sergeant Flamm  14.0  \n",
       "180985                Captain Junket  15.0  \n",
       "1228229  Charley - Chicago Policeman  16.0  "
      ]
     },
     "execution_count": 16,
     "metadata": {},
     "output_type": "execute_result"
    }
   ],
   "source": [
    "fl[(fl.title== \"North by Northwest\") &(fl.n.notnull())].sort_values(by='n')"
   ]
  },
  {
   "cell_type": "code",
   "execution_count": 17,
   "id": "f3fe2806",
   "metadata": {},
   "outputs": [
    {
     "data": {
      "text/html": [
       "<div>\n",
       "<style scoped>\n",
       "    .dataframe tbody tr th:only-of-type {\n",
       "        vertical-align: middle;\n",
       "    }\n",
       "\n",
       "    .dataframe tbody tr th {\n",
       "        vertical-align: top;\n",
       "    }\n",
       "\n",
       "    .dataframe thead th {\n",
       "        text-align: right;\n",
       "    }\n",
       "</style>\n",
       "<table border=\"1\" class=\"dataframe\">\n",
       "  <thead>\n",
       "    <tr style=\"text-align: right;\">\n",
       "      <th></th>\n",
       "      <th>title</th>\n",
       "      <th>year</th>\n",
       "      <th>name</th>\n",
       "      <th>type</th>\n",
       "      <th>character</th>\n",
       "      <th>n</th>\n",
       "    </tr>\n",
       "  </thead>\n",
       "  <tbody>\n",
       "    <tr>\n",
       "      <th>1513570</th>\n",
       "      <td>Sleuth</td>\n",
       "      <td>1972</td>\n",
       "      <td>Laurence Olivier</td>\n",
       "      <td>actor</td>\n",
       "      <td>Andrew Wyke</td>\n",
       "      <td>1.0</td>\n",
       "    </tr>\n",
       "    <tr>\n",
       "      <th>288502</th>\n",
       "      <td>Sleuth</td>\n",
       "      <td>1972</td>\n",
       "      <td>Michael Caine</td>\n",
       "      <td>actor</td>\n",
       "      <td>Milo Tindle</td>\n",
       "      <td>2.0</td>\n",
       "    </tr>\n",
       "    <tr>\n",
       "      <th>330750</th>\n",
       "      <td>Sleuth</td>\n",
       "      <td>1972</td>\n",
       "      <td>Alec Cawthorne</td>\n",
       "      <td>actor</td>\n",
       "      <td>Inspector Doppler</td>\n",
       "      <td>3.0</td>\n",
       "    </tr>\n",
       "    <tr>\n",
       "      <th>1299944</th>\n",
       "      <td>Sleuth</td>\n",
       "      <td>1972</td>\n",
       "      <td>John (II) Matthews</td>\n",
       "      <td>actor</td>\n",
       "      <td>Detective Sergeant Tarrant</td>\n",
       "      <td>4.0</td>\n",
       "    </tr>\n",
       "    <tr>\n",
       "      <th>2406762</th>\n",
       "      <td>Sleuth</td>\n",
       "      <td>1972</td>\n",
       "      <td>Eve (III) Channing</td>\n",
       "      <td>actress</td>\n",
       "      <td>Marguerite Wyke</td>\n",
       "      <td>5.0</td>\n",
       "    </tr>\n",
       "    <tr>\n",
       "      <th>1285278</th>\n",
       "      <td>Sleuth</td>\n",
       "      <td>1972</td>\n",
       "      <td>Teddy Martin</td>\n",
       "      <td>actor</td>\n",
       "      <td>Police Constable Higgs</td>\n",
       "      <td>6.0</td>\n",
       "    </tr>\n",
       "  </tbody>\n",
       "</table>\n",
       "</div>"
      ],
      "text/plain": [
       "          title  year                name     type  \\\n",
       "1513570  Sleuth  1972    Laurence Olivier    actor   \n",
       "288502   Sleuth  1972       Michael Caine    actor   \n",
       "330750   Sleuth  1972      Alec Cawthorne    actor   \n",
       "1299944  Sleuth  1972  John (II) Matthews    actor   \n",
       "2406762  Sleuth  1972  Eve (III) Channing  actress   \n",
       "1285278  Sleuth  1972        Teddy Martin    actor   \n",
       "\n",
       "                          character    n  \n",
       "1513570                 Andrew Wyke  1.0  \n",
       "288502                  Milo Tindle  2.0  \n",
       "330750            Inspector Doppler  3.0  \n",
       "1299944  Detective Sergeant Tarrant  4.0  \n",
       "2406762             Marguerite Wyke  5.0  \n",
       "1285278      Police Constable Higgs  6.0  "
      ]
     },
     "execution_count": 17,
     "metadata": {},
     "output_type": "execute_result"
    }
   ],
   "source": [
    "fl[(fl.title ==\"Sleuth\") & (fl.year==1972) & (fl.n.notnull())].sort_values(by= 'n')"
   ]
  },
  {
   "cell_type": "code",
   "execution_count": 18,
   "id": "056abcda",
   "metadata": {},
   "outputs": [
    {
     "data": {
      "text/plain": [
       "55"
      ]
     },
     "execution_count": 18,
     "metadata": {},
     "output_type": "execute_result"
    }
   ],
   "source": [
    "len(fl[(fl.title== \"Hamlet\") & (fl.year== 1996)])"
   ]
  },
  {
   "cell_type": "code",
   "execution_count": 19,
   "id": "85db8f9c",
   "metadata": {},
   "outputs": [
    {
     "data": {
      "text/plain": [
       "0"
      ]
     },
     "execution_count": 19,
     "metadata": {},
     "output_type": "execute_result"
    }
   ],
   "source": [
    "len(fl[(fl.title== \"hamlet\") & (fl.year== 1921)])"
   ]
  },
  {
   "cell_type": "code",
   "execution_count": 20,
   "id": "f29a2eae",
   "metadata": {},
   "outputs": [
    {
     "data": {
      "text/plain": [
       "81"
      ]
     },
     "execution_count": 20,
     "metadata": {},
     "output_type": "execute_result"
    }
   ],
   "source": [
    "len(fl[fl.character == \"Hamlet\"])"
   ]
  },
  {
   "cell_type": "code",
   "execution_count": 21,
   "id": "1629b3dc",
   "metadata": {},
   "outputs": [
    {
     "data": {
      "text/plain": [
       "96"
      ]
     },
     "execution_count": 21,
     "metadata": {},
     "output_type": "execute_result"
    }
   ],
   "source": [
    "\n",
    "len(fl[fl.character == \"Ophelia\"])"
   ]
  },
  {
   "cell_type": "code",
   "execution_count": 22,
   "id": "2c19d41a",
   "metadata": {},
   "outputs": [
    {
     "data": {
      "text/plain": [
       "16"
      ]
     },
     "execution_count": 22,
     "metadata": {},
     "output_type": "execute_result"
    }
   ],
   "source": [
    "len(fl[fl.character == \"The Dude\"])"
   ]
  },
  {
   "cell_type": "code",
   "execution_count": 23,
   "id": "a21e6745",
   "metadata": {},
   "outputs": [
    {
     "data": {
      "text/plain": [
       "192"
      ]
     },
     "execution_count": 23,
     "metadata": {},
     "output_type": "execute_result"
    }
   ],
   "source": [
    "len(fl[fl.character == \"The Stranger\"])"
   ]
  },
  {
   "cell_type": "code",
   "execution_count": 24,
   "id": "20b4f16a",
   "metadata": {},
   "outputs": [
    {
     "data": {
      "text/plain": [
       "0"
      ]
     },
     "execution_count": 24,
     "metadata": {},
     "output_type": "execute_result"
    }
   ],
   "source": [
    "len(fl[fl.name == \" Judi Dench \"])"
   ]
  },
  {
   "cell_type": "code",
   "execution_count": 25,
   "id": "83028714",
   "metadata": {},
   "outputs": [
    {
     "data": {
      "text/html": [
       "<div>\n",
       "<style scoped>\n",
       "    .dataframe tbody tr th:only-of-type {\n",
       "        vertical-align: middle;\n",
       "    }\n",
       "\n",
       "    .dataframe tbody tr th {\n",
       "        vertical-align: top;\n",
       "    }\n",
       "\n",
       "    .dataframe thead th {\n",
       "        text-align: right;\n",
       "    }\n",
       "</style>\n",
       "<table border=\"1\" class=\"dataframe\">\n",
       "  <thead>\n",
       "    <tr style=\"text-align: right;\">\n",
       "      <th></th>\n",
       "      <th>title</th>\n",
       "      <th>year</th>\n",
       "      <th>name</th>\n",
       "      <th>type</th>\n",
       "      <th>character</th>\n",
       "      <th>n</th>\n",
       "    </tr>\n",
       "  </thead>\n",
       "  <tbody>\n",
       "    <tr>\n",
       "      <th>773493</th>\n",
       "      <td>My Favorite Wife</td>\n",
       "      <td>1940</td>\n",
       "      <td>Cary Grant</td>\n",
       "      <td>actor</td>\n",
       "      <td>Nick</td>\n",
       "      <td>2.0</td>\n",
       "    </tr>\n",
       "    <tr>\n",
       "      <th>773503</th>\n",
       "      <td>Penny Serenade</td>\n",
       "      <td>1941</td>\n",
       "      <td>Cary Grant</td>\n",
       "      <td>actor</td>\n",
       "      <td>Roger Adams</td>\n",
       "      <td>2.0</td>\n",
       "    </tr>\n",
       "  </tbody>\n",
       "</table>\n",
       "</div>"
      ],
      "text/plain": [
       "                   title  year        name   type    character    n\n",
       "773493  My Favorite Wife  1940  Cary Grant  actor         Nick  2.0\n",
       "773503    Penny Serenade  1941  Cary Grant  actor  Roger Adams  2.0"
      ]
     },
     "execution_count": 25,
     "metadata": {},
     "output_type": "execute_result"
    }
   ],
   "source": [
    "fl[\n",
    "    (fl.name == 'Cary Grant') & \n",
    "    (fl.year // 10 == 194) &\n",
    "    (fl.n == 2)].sort_values(by='year')"
   ]
  },
  {
   "cell_type": "code",
   "execution_count": 26,
   "id": "8ef987a0",
   "metadata": {},
   "outputs": [
    {
     "data": {
      "text/html": [
       "<div>\n",
       "<style scoped>\n",
       "    .dataframe tbody tr th:only-of-type {\n",
       "        vertical-align: middle;\n",
       "    }\n",
       "\n",
       "    .dataframe tbody tr th {\n",
       "        vertical-align: top;\n",
       "    }\n",
       "\n",
       "    .dataframe thead th {\n",
       "        text-align: right;\n",
       "    }\n",
       "</style>\n",
       "<table border=\"1\" class=\"dataframe\">\n",
       "  <thead>\n",
       "    <tr style=\"text-align: right;\">\n",
       "      <th></th>\n",
       "      <th>title</th>\n",
       "      <th>year</th>\n",
       "      <th>name</th>\n",
       "      <th>type</th>\n",
       "      <th>character</th>\n",
       "      <th>n</th>\n",
       "    </tr>\n",
       "  </thead>\n",
       "  <tbody>\n",
       "    <tr>\n",
       "      <th>773518</th>\n",
       "      <td>The Howards of Virginia</td>\n",
       "      <td>1940</td>\n",
       "      <td>Cary Grant</td>\n",
       "      <td>actor</td>\n",
       "      <td>Matt Howard</td>\n",
       "      <td>1.0</td>\n",
       "    </tr>\n",
       "    <tr>\n",
       "      <th>773475</th>\n",
       "      <td>His Girl Friday</td>\n",
       "      <td>1940</td>\n",
       "      <td>Cary Grant</td>\n",
       "      <td>actor</td>\n",
       "      <td>Walter Burns</td>\n",
       "      <td>1.0</td>\n",
       "    </tr>\n",
       "    <tr>\n",
       "      <th>773520</th>\n",
       "      <td>The Philadelphia Story</td>\n",
       "      <td>1940</td>\n",
       "      <td>Cary Grant</td>\n",
       "      <td>actor</td>\n",
       "      <td>C. K. Dexter Haven</td>\n",
       "      <td>1.0</td>\n",
       "    </tr>\n",
       "    <tr>\n",
       "      <th>773508</th>\n",
       "      <td>Suspicion</td>\n",
       "      <td>1941</td>\n",
       "      <td>Cary Grant</td>\n",
       "      <td>actor</td>\n",
       "      <td>Johnnie</td>\n",
       "      <td>1.0</td>\n",
       "    </tr>\n",
       "    <tr>\n",
       "      <th>773522</th>\n",
       "      <td>The Talk of the Town</td>\n",
       "      <td>1942</td>\n",
       "      <td>Cary Grant</td>\n",
       "      <td>actor</td>\n",
       "      <td>Leopold Dilg</td>\n",
       "      <td>1.0</td>\n",
       "    </tr>\n",
       "    <tr>\n",
       "      <th>773499</th>\n",
       "      <td>Once Upon a Honeymoon</td>\n",
       "      <td>1942</td>\n",
       "      <td>Cary Grant</td>\n",
       "      <td>actor</td>\n",
       "      <td>Patrick 'Pat' O'Toole</td>\n",
       "      <td>1.0</td>\n",
       "    </tr>\n",
       "    <tr>\n",
       "      <th>773466</th>\n",
       "      <td>Destination Tokyo</td>\n",
       "      <td>1943</td>\n",
       "      <td>Cary Grant</td>\n",
       "      <td>actor</td>\n",
       "      <td>Capt. Cassidy</td>\n",
       "      <td>1.0</td>\n",
       "    </tr>\n",
       "    <tr>\n",
       "      <th>773491</th>\n",
       "      <td>Mr. Lucky</td>\n",
       "      <td>1943</td>\n",
       "      <td>Cary Grant</td>\n",
       "      <td>actor</td>\n",
       "      <td>Joe Adams</td>\n",
       "      <td>1.0</td>\n",
       "    </tr>\n",
       "    <tr>\n",
       "      <th>773492</th>\n",
       "      <td>Mr. Lucky</td>\n",
       "      <td>1943</td>\n",
       "      <td>Cary Grant</td>\n",
       "      <td>actor</td>\n",
       "      <td>Joe Bascopolous</td>\n",
       "      <td>1.0</td>\n",
       "    </tr>\n",
       "    <tr>\n",
       "      <th>773500</th>\n",
       "      <td>Once Upon a Time</td>\n",
       "      <td>1944</td>\n",
       "      <td>Cary Grant</td>\n",
       "      <td>actor</td>\n",
       "      <td>Jerry Flynn</td>\n",
       "      <td>1.0</td>\n",
       "    </tr>\n",
       "    <tr>\n",
       "      <th>773458</th>\n",
       "      <td>Arsenic and Old Lace</td>\n",
       "      <td>1944</td>\n",
       "      <td>Cary Grant</td>\n",
       "      <td>actor</td>\n",
       "      <td>Mortimer Brewster</td>\n",
       "      <td>1.0</td>\n",
       "    </tr>\n",
       "    <tr>\n",
       "      <th>773495</th>\n",
       "      <td>None But the Lonely Heart</td>\n",
       "      <td>1944</td>\n",
       "      <td>Cary Grant</td>\n",
       "      <td>actor</td>\n",
       "      <td>Ernie Mott</td>\n",
       "      <td>1.0</td>\n",
       "    </tr>\n",
       "    <tr>\n",
       "      <th>773494</th>\n",
       "      <td>Night and Day</td>\n",
       "      <td>1946</td>\n",
       "      <td>Cary Grant</td>\n",
       "      <td>actor</td>\n",
       "      <td>Cole Porter</td>\n",
       "      <td>1.0</td>\n",
       "    </tr>\n",
       "    <tr>\n",
       "      <th>773497</th>\n",
       "      <td>Notorious</td>\n",
       "      <td>1946</td>\n",
       "      <td>Cary Grant</td>\n",
       "      <td>actor</td>\n",
       "      <td>Devlin</td>\n",
       "      <td>1.0</td>\n",
       "    </tr>\n",
       "    <tr>\n",
       "      <th>773514</th>\n",
       "      <td>The Bachelor and the Bobby-Soxer</td>\n",
       "      <td>1947</td>\n",
       "      <td>Cary Grant</td>\n",
       "      <td>actor</td>\n",
       "      <td>Dick</td>\n",
       "      <td>1.0</td>\n",
       "    </tr>\n",
       "    <tr>\n",
       "      <th>773515</th>\n",
       "      <td>The Bishop's Wife</td>\n",
       "      <td>1947</td>\n",
       "      <td>Cary Grant</td>\n",
       "      <td>actor</td>\n",
       "      <td>Dudley</td>\n",
       "      <td>1.0</td>\n",
       "    </tr>\n",
       "    <tr>\n",
       "      <th>773490</th>\n",
       "      <td>Mr. Blandings Builds His Dream House</td>\n",
       "      <td>1948</td>\n",
       "      <td>Cary Grant</td>\n",
       "      <td>actor</td>\n",
       "      <td>Jim Blandings</td>\n",
       "      <td>1.0</td>\n",
       "    </tr>\n",
       "    <tr>\n",
       "      <th>773470</th>\n",
       "      <td>Every Girl Should Be Married</td>\n",
       "      <td>1948</td>\n",
       "      <td>Cary Grant</td>\n",
       "      <td>actor</td>\n",
       "      <td>Dr. Madison Brown</td>\n",
       "      <td>1.0</td>\n",
       "    </tr>\n",
       "    <tr>\n",
       "      <th>773479</th>\n",
       "      <td>I Was a Male War Bride</td>\n",
       "      <td>1949</td>\n",
       "      <td>Cary Grant</td>\n",
       "      <td>actor</td>\n",
       "      <td>Capt. Henri Rochard</td>\n",
       "      <td>1.0</td>\n",
       "    </tr>\n",
       "  </tbody>\n",
       "</table>\n",
       "</div>"
      ],
      "text/plain": [
       "                                       title  year        name   type  \\\n",
       "773518               The Howards of Virginia  1940  Cary Grant  actor   \n",
       "773475                       His Girl Friday  1940  Cary Grant  actor   \n",
       "773520                The Philadelphia Story  1940  Cary Grant  actor   \n",
       "773508                             Suspicion  1941  Cary Grant  actor   \n",
       "773522                  The Talk of the Town  1942  Cary Grant  actor   \n",
       "773499                 Once Upon a Honeymoon  1942  Cary Grant  actor   \n",
       "773466                     Destination Tokyo  1943  Cary Grant  actor   \n",
       "773491                             Mr. Lucky  1943  Cary Grant  actor   \n",
       "773492                             Mr. Lucky  1943  Cary Grant  actor   \n",
       "773500                      Once Upon a Time  1944  Cary Grant  actor   \n",
       "773458                  Arsenic and Old Lace  1944  Cary Grant  actor   \n",
       "773495             None But the Lonely Heart  1944  Cary Grant  actor   \n",
       "773494                         Night and Day  1946  Cary Grant  actor   \n",
       "773497                             Notorious  1946  Cary Grant  actor   \n",
       "773514      The Bachelor and the Bobby-Soxer  1947  Cary Grant  actor   \n",
       "773515                     The Bishop's Wife  1947  Cary Grant  actor   \n",
       "773490  Mr. Blandings Builds His Dream House  1948  Cary Grant  actor   \n",
       "773470          Every Girl Should Be Married  1948  Cary Grant  actor   \n",
       "773479                I Was a Male War Bride  1949  Cary Grant  actor   \n",
       "\n",
       "                    character    n  \n",
       "773518            Matt Howard  1.0  \n",
       "773475           Walter Burns  1.0  \n",
       "773520     C. K. Dexter Haven  1.0  \n",
       "773508                Johnnie  1.0  \n",
       "773522           Leopold Dilg  1.0  \n",
       "773499  Patrick 'Pat' O'Toole  1.0  \n",
       "773466          Capt. Cassidy  1.0  \n",
       "773491              Joe Adams  1.0  \n",
       "773492        Joe Bascopolous  1.0  \n",
       "773500            Jerry Flynn  1.0  \n",
       "773458      Mortimer Brewster  1.0  \n",
       "773495             Ernie Mott  1.0  \n",
       "773494            Cole Porter  1.0  \n",
       "773497                 Devlin  1.0  \n",
       "773514                   Dick  1.0  \n",
       "773515                 Dudley  1.0  \n",
       "773490          Jim Blandings  1.0  \n",
       "773470      Dr. Madison Brown  1.0  \n",
       "773479    Capt. Henri Rochard  1.0  "
      ]
     },
     "execution_count": 26,
     "metadata": {},
     "output_type": "execute_result"
    }
   ],
   "source": [
    "fl[\n",
    "    (fl.name == 'Cary Grant') & \n",
    "    (fl.year // 10 == 194) &\n",
    "    (fl.n == 1)].sort_values(by='year')"
   ]
  },
  {
   "cell_type": "code",
   "execution_count": 27,
   "id": "8a889c1b",
   "metadata": {},
   "outputs": [
    {
     "data": {
      "text/plain": [
       "147951"
      ]
     },
     "execution_count": 27,
     "metadata": {},
     "output_type": "execute_result"
    }
   ],
   "source": [
    "len(fl[\n",
    "    (fl.year // 10 == 195) &\n",
    "    (fl.type == \"actor\")])"
   ]
  },
  {
   "cell_type": "code",
   "execution_count": 28,
   "id": "de4d1f7f",
   "metadata": {},
   "outputs": [
    {
     "data": {
      "text/plain": [
       "53969"
      ]
     },
     "execution_count": 28,
     "metadata": {},
     "output_type": "execute_result"
    }
   ],
   "source": [
    "len(fl[\n",
    "    (fl.year // 10 == 195) &\n",
    "    (fl.type == \"actress\")])"
   ]
  },
  {
   "cell_type": "code",
   "execution_count": 29,
   "id": "5e904941",
   "metadata": {},
   "outputs": [
    {
     "data": {
      "text/plain": [
       "61444"
      ]
     },
     "execution_count": 29,
     "metadata": {},
     "output_type": "execute_result"
    }
   ],
   "source": [
    "\n",
    "len(fl[\n",
    "    (fl.year <= 1980) &\n",
    "    (fl.n == 1)])"
   ]
  },
  {
   "cell_type": "code",
   "execution_count": 30,
   "id": "4c96e37a",
   "metadata": {},
   "outputs": [
    {
     "data": {
      "text/plain": [
       "1047877"
      ]
     },
     "execution_count": 30,
     "metadata": {},
     "output_type": "execute_result"
    }
   ],
   "source": [
    "\n",
    "len(fl[\n",
    "    (fl.year <= 1980) &\n",
    "    (fl.n != 1)])"
   ]
  },
  {
   "cell_type": "code",
   "execution_count": 31,
   "id": "939be716",
   "metadata": {},
   "outputs": [
    {
     "data": {
      "text/plain": [
       "415167"
      ]
     },
     "execution_count": 31,
     "metadata": {},
     "output_type": "execute_result"
    }
   ],
   "source": [
    "\n",
    "len(fl[\n",
    "    (fl.year <= 1980) &\n",
    "    (fl.n.isnull())])"
   ]
  },
  {
   "cell_type": "code",
   "execution_count": 32,
   "id": "956d746f",
   "metadata": {},
   "outputs": [
    {
     "data": {
      "text/plain": [
       "Around the World in Eighty Days       1300\n",
       "7 cajas                                689\n",
       "Thelma                                 580\n",
       "The Ten Commandments                   529\n",
       "The Eschatrilogy: Book of the Dead     517\n",
       "A Broken Code                          477\n",
       "Welcome to Essex                       443\n",
       "Stuck on You                           438\n",
       "The Dark Knight Rises                  429\n",
       "The Buccaneer                          428\n",
       "Name: title, dtype: int64"
      ]
     },
     "execution_count": 32,
     "metadata": {},
     "output_type": "execute_result"
    }
   ],
   "source": [
    "##What are the ten most common movie names of all time?\n",
    "fl.title.value_counts().head(10)"
   ]
  },
  {
   "cell_type": "code",
   "execution_count": 33,
   "id": "4879adae",
   "metadata": {},
   "outputs": [
    {
     "data": {
      "text/plain": [
       "1937    27022\n",
       "1936    25381\n",
       "1938    24755\n",
       "Name: year, dtype: int64"
      ]
     },
     "execution_count": 33,
     "metadata": {},
     "output_type": "execute_result"
    }
   ],
   "source": [
    "##Which three years of the 1930s saw the most films released?\n",
    "fl[fl.year // 10 == 193].year.value_counts().head(3)"
   ]
  },
  {
   "cell_type": "code",
   "execution_count": 34,
   "id": "2e700075",
   "metadata": {},
   "outputs": [
    {
     "data": {
      "text/plain": [
       "<AxesSubplot:>"
      ]
     },
     "execution_count": 34,
     "metadata": {},
     "output_type": "execute_result"
    },
    {
     "data": {
      "image/png": "[encoded data removed]",
      "text/plain": [
       "<Figure size 640x480 with 1 Axes>"
      ]
     },
     "metadata": {},
     "output_type": "display_data"
    }
   ],
   "source": [
    "##Plot the number of films that have been released each decade over the history of cinema.\n",
    "fl['decade'] = ((fl.year // 10) * 10)\n",
    "fl.decade.value_counts().sort_index().plot(kind='bar')"
   ]
  },
  {
   "cell_type": "code",
   "execution_count": 35,
   "id": "f8db5605",
   "metadata": {},
   "outputs": [
    {
     "data": {
      "text/plain": [
       "<AxesSubplot:>"
      ]
     },
     "execution_count": 35,
     "metadata": {},
     "output_type": "execute_result"
    },
    {
     "data": {
      "image/png": "[encoded data removed]",
      "text/plain": [
       "<Figure size 640x480 with 1 Axes>"
      ]
     },
     "metadata": {},
     "output_type": "display_data"
    }
   ],
   "source": [
    "fl.year.value_counts().sort_index().plot(kind='bar')"
   ]
  },
  {
   "cell_type": "code",
   "execution_count": 36,
   "id": "e7c4e553",
   "metadata": {},
   "outputs": [
    {
     "data": {
      "text/plain": [
       "<AxesSubplot:>"
      ]
     },
     "execution_count": 36,
     "metadata": {},
     "output_type": "execute_result"
    },
    {
     "data": {
      "image/png": "[encoded data removed]",
      "text/plain": [
       "<Figure size 640x480 with 1 Axes>"
      ]
     },
     "metadata": {},
     "output_type": "display_data"
    }
   ],
   "source": [
    "##Plot the number of \"Hamlet\" films made each decade.\n",
    "fl['decade'] = ((fl.year // 10) * 10)\n",
    "fl[fl.title=='Hamlet'].decade.value_counts().sort_index().plot(kind='bar')"
   ]
  },
  {
   "cell_type": "code",
   "execution_count": 37,
   "id": "6bf1d363",
   "metadata": {},
   "outputs": [
    {
     "data": {
      "text/plain": [
       "<AxesSubplot:>"
      ]
     },
     "execution_count": 37,
     "metadata": {},
     "output_type": "execute_result"
    },
    {
     "data": {
      "image/png": "[encoded data removed]",
      "text/plain": [
       "<Figure size 640x480 with 1 Axes>"
      ]
     },
     "metadata": {},
     "output_type": "display_data"
    }
   ],
   "source": [
    "##Plot the number of \"Rustler\" characters in each decade of the history of film.\n",
    "fl['decade'] = ((fl.year // 10) * 10)\n",
    "fl[fl.character=='Rustler'].decade.value_counts().sort_index().plot(kind='bar')"
   ]
  },
  {
   "cell_type": "code",
   "execution_count": 38,
   "id": "b72f444a",
   "metadata": {},
   "outputs": [
    {
     "data": {
      "text/plain": [
       "<AxesSubplot:>"
      ]
     },
     "execution_count": 38,
     "metadata": {},
     "output_type": "execute_result"
    },
    {
     "data": {
      "image/png": "[encoded data removed]",
      "text/plain": [
       "<Figure size 640x480 with 1 Axes>"
      ]
     },
     "metadata": {},
     "output_type": "display_data"
    }
   ],
   "source": [
    "##Plot the number of \"Hamlet\" characters each decade.\n",
    "fl['decade'] = ((fl.year // 10) * 10)\n",
    "fl[fl.character=='Hamlet'].decade.value_counts().sort_index().plot(kind='bar')"
   ]
  },
  {
   "cell_type": "code",
   "execution_count": 39,
   "id": "33aa98c5",
   "metadata": {},
   "outputs": [
    {
     "data": {
      "text/plain": [
       "Himself        18926\n",
       "Dancer         11015\n",
       "Extra           8638\n",
       "Reporter        7593\n",
       "Doctor          6803\n",
       "Policeman       6470\n",
       "Student         6390\n",
       "Nurse           6127\n",
       "Bartender       6123\n",
       "Minor Role      5830\n",
       "Party Guest     5820\n",
       "Name: character, dtype: int64"
      ]
     },
     "execution_count": 39,
     "metadata": {},
     "output_type": "execute_result"
    }
   ],
   "source": [
    "##What are the 11 most common character names in movie history?\n",
    "fl.character.value_counts().head(11)"
   ]
  },
  {
   "cell_type": "code",
   "execution_count": 40,
   "id": "e313d993",
   "metadata": {},
   "outputs": [
    {
     "data": {
      "text/plain": [
       "Joyce Brothers        14\n",
       "Queen Elizabeth II    11\n",
       "Margaret Thatcher      8\n",
       "Joan Rivers            7\n",
       "Mary Jo Pehl           7\n",
       "Juhi Chawla            5\n",
       "Lili?n Garc?a          5\n",
       "Chris Evert            5\n",
       "Rekha                  5\n",
       "Kareena Kapoor         5\n",
       "Name: name, dtype: int64"
      ]
     },
     "execution_count": 40,
     "metadata": {},
     "output_type": "execute_result"
    }
   ],
   "source": [
    "##Who are the 10 people most often credited as \"Herself\" in film history?\n",
    "fl[fl.character=='Herself'].name.value_counts().head(10)"
   ]
  },
  {
   "cell_type": "code",
   "execution_count": 41,
   "id": "b9fd0744",
   "metadata": {},
   "outputs": [
    {
     "data": {
      "text/plain": [
       "Adolf Hitler             93\n",
       "Richard Nixon            39\n",
       "Ronald Reagan            31\n",
       "John F. Kennedy          26\n",
       "Ron Jeremy               24\n",
       "Franklin D. Roosevelt    20\n",
       "Bill Clinton             20\n",
       "Winston Churchill        20\n",
       "George W. Bush           20\n",
       "Martin Luther King       19\n",
       "Name: name, dtype: int64"
      ]
     },
     "execution_count": 41,
     "metadata": {},
     "output_type": "execute_result"
    }
   ],
   "source": [
    "##Who are the 10 people most often credited as \"Himself\" in film history?\n",
    "fl[fl.character=='Himself'].name.value_counts().head(10)"
   ]
  },
  {
   "cell_type": "code",
   "execution_count": 42,
   "id": "6861f54e",
   "metadata": {},
   "outputs": [
    {
     "data": {
      "text/plain": [
       "Emmett Vogan        39\n",
       "Sam (II) Harris     30\n",
       "Bess Flowers        28\n",
       "Harold Miller       28\n",
       "Nolan Leary         27\n",
       "Frank O'Connor      26\n",
       "Pierre Watkin       24\n",
       "Tom London          24\n",
       "Franklyn Farnum     24\n",
       "Charles Sullivan    24\n",
       "Name: name, dtype: int64"
      ]
     },
     "execution_count": 42,
     "metadata": {},
     "output_type": "execute_result"
    }
   ],
   "source": [
    "##Which actors or actresses appeared in the most movies in the year 1945?\n",
    "fl[fl.year==1945].name.value_counts().head(10)"
   ]
  },
  {
   "cell_type": "code",
   "execution_count": 43,
   "id": "28bd7e51",
   "metadata": {},
   "outputs": [
    {
     "data": {
      "text/plain": [
       "Shakti Kapoor     19\n",
       "Mammootty         17\n",
       "Sukumari          16\n",
       "Lou Scheimer      15\n",
       "Aruna Irani       14\n",
       "Raj Babbar        13\n",
       "Mohanlal          13\n",
       "Rajesh Khanna     13\n",
       "Deven Verma       13\n",
       "Pinchoo Kapoor    12\n",
       "Name: name, dtype: int64"
      ]
     },
     "execution_count": 43,
     "metadata": {},
     "output_type": "execute_result"
    }
   ],
   "source": [
    "##Which actors or actresses appeared in the most movies in the year 1985?\n",
    "fl[fl.year==1985].name.value_counts().head(10)"
   ]
  },
  {
   "cell_type": "code",
   "execution_count": 44,
   "id": "dff306d5",
   "metadata": {},
   "outputs": [
    {
     "data": {
      "text/plain": [
       "<AxesSubplot:>"
      ]
     },
     "execution_count": 44,
     "metadata": {},
     "output_type": "execute_result"
    },
    {
     "data": {
      "image/png": "[encoded data removed]",
      "text/plain": [
       "<Figure size 640x480 with 1 Axes>"
      ]
     },
     "metadata": {},
     "output_type": "display_data"
    }
   ],
   "source": [
    "##Plot how many roles Mammootty has played in each year of his career.\n",
    "fl[fl.name=='Ron Jeremy'].year.value_counts().sort_index().plot(kind='bar')"
   ]
  },
  {
   "cell_type": "code",
   "execution_count": 45,
   "id": "3c0e4ff7",
   "metadata": {},
   "outputs": [
    {
     "data": {
      "text/plain": [
       "Patron in Frisky Rabbit         16\n",
       "Patron in Chinese Restaurant     9\n",
       "Patron in the Coffee House       9\n",
       "Patron in Billiard Parlor        5\n",
       "Patron in Bar                    4\n",
       "Patron in Club                   3\n",
       "Patron in cabaret                3\n",
       "Patron in restaurant             3\n",
       "Patron in Restaurant             3\n",
       "Patron in Quiet Bar              2\n",
       "Name: character, dtype: int64"
      ]
     },
     "execution_count": 45,
     "metadata": {},
     "output_type": "execute_result"
    }
   ],
   "source": [
    "##What are the 10 most frequent roles that start with the phrase \"Patron in\"?\n",
    "fl= fl[fl.character.str.startswith('Patron in')]\n",
    "fl.character.value_counts().head(10)"
   ]
  },
  {
   "cell_type": "code",
   "execution_count": 46,
   "id": "9a9fce68",
   "metadata": {},
   "outputs": [
    {
     "data": {
      "text/plain": [
       "Series([], Name: character, dtype: int64)"
      ]
     },
     "execution_count": 46,
     "metadata": {},
     "output_type": "execute_result"
    }
   ],
   "source": [
    "##What are the 10 most frequent roles that start with the word \"Science\"?\n",
    "c = fl[fl.character.str.startswith('Science')]\n",
    "c.character.value_counts().head(10)"
   ]
  },
  {
   "cell_type": "code",
   "execution_count": 47,
   "id": "3b7a0dff",
   "metadata": {},
   "outputs": [
    {
     "data": {
      "text/plain": [
       "<AxesSubplot:xlabel='year', ylabel='n'>"
      ]
     },
     "execution_count": 47,
     "metadata": {},
     "output_type": "execute_result"
    },
    {
     "data": {
      "image/png": "[encoded data removed]",
      "text/plain": [
       "<Figure size 640x480 with 1 Axes>"
      ]
     },
     "metadata": {},
     "output_type": "display_data"
    }
   ],
   "source": [
    "##Plot the n-values of the roles that Judi Dench has played over her career.\n",
    "c=fl[fl.name==\"Judi Dench\"]\n",
    "#f.n.value_counts().sort_index().plot(kind=\"bar\")\n",
    "c.plot(kind=\"scatter\",x='year',y='n',alpha=0.5)"
   ]
  },
  {
   "cell_type": "code",
   "execution_count": null,
   "id": "53658c06",
   "metadata": {},
   "outputs": [],
   "source": []
  },
  {
   "cell_type": "code",
   "execution_count": 48,
   "id": "420e32c6",
   "metadata": {},
   "outputs": [
    {
     "data": {
      "text/plain": [
       "<AxesSubplot:xlabel='year', ylabel='n'>"
      ]
     },
     "execution_count": 48,
     "metadata": {},
     "output_type": "execute_result"
    },
    {
     "data": {
      "image/png": "[encoded data removed]",
      "text/plain": [
       "<Figure size 640x480 with 1 Axes>"
      ]
     },
     "metadata": {},
     "output_type": "display_data"
    }
   ],
   "source": [
    "##Plot the n-values of Cary Grant's roles through his career.\n",
    "a=fl[fl.name==\"Cary Grant\"]\n",
    "a.plot(kind=\"scatter\",x='year',y='n',alpha=0.5)\n"
   ]
  },
  {
   "cell_type": "code",
   "execution_count": 49,
   "id": "d936326a",
   "metadata": {},
   "outputs": [
    {
     "data": {
      "text/plain": [
       "<AxesSubplot:xlabel='year', ylabel='n'>"
      ]
     },
     "execution_count": 49,
     "metadata": {},
     "output_type": "execute_result"
    },
    {
     "data": {
      "image/png": "[encoded data removed]",
      "text/plain": [
       "<Figure size 640x480 with 1 Axes>"
      ]
     },
     "metadata": {},
     "output_type": "display_data"
    }
   ],
   "source": [
    "##Plot the n-value of the roles that Sidney Poitier has acted over the years.\n",
    "fl[fl.name=='Ron Jeremy'].plot(kind='scatter',x='year',y='n')\n"
   ]
  },
  {
   "cell_type": "code",
   "execution_count": 50,
   "id": "e28dc649",
   "metadata": {},
   "outputs": [
    {
     "data": {
      "text/plain": [
       "Series([], Name: type, dtype: int64)"
      ]
     },
     "execution_count": 50,
     "metadata": {},
     "output_type": "execute_result"
    }
   ],
   "source": [
    "##How many leading (n=1) roles were available to actors, and how many to actresses, in the 1950s?\n",
    "fl[(fl.year//10==195)&(fl.n==1)].type.value_counts()"
   ]
  },
  {
   "cell_type": "code",
   "execution_count": 51,
   "id": "ba58681c",
   "metadata": {},
   "outputs": [
    {
     "data": {
      "text/plain": [
       "Series([], Name: type, dtype: int64)"
      ]
     },
     "execution_count": 51,
     "metadata": {},
     "output_type": "execute_result"
    }
   ],
   "source": [
    "##How many supporting (n=2) roles were available to actors, and how many to actresses, in the 1950s?\n",
    "fl[(fl.year//10==195)&(fl.n==2)].type.value_counts()\n"
   ]
  },
  {
   "cell_type": "code",
   "execution_count": 52,
   "id": "3516fc7c",
   "metadata": {},
   "outputs": [
    {
     "ename": "NameError",
     "evalue": "name 'titles' is not defined",
     "output_type": "error",
     "traceback": [
      "\u001b[1;31m---------------------------------------------------------------------------\u001b[0m",
      "\u001b[1;31mNameError\u001b[0m                                 Traceback (most recent call last)",
      "\u001b[1;32m~\\AppData\\Local\\Temp\\ipykernel_3628\\3050930489.py\u001b[0m in \u001b[0;36m<module>\u001b[1;34m\u001b[0m\n\u001b[0;32m      2\u001b[0m \u001b[0mfl\u001b[0m\u001b[1;33m[\u001b[0m\u001b[1;34m'decade'\u001b[0m\u001b[1;33m]\u001b[0m \u001b[1;33m=\u001b[0m \u001b[0mfl\u001b[0m\u001b[1;33m.\u001b[0m\u001b[0myear\u001b[0m \u001b[1;33m//\u001b[0m \u001b[1;36m10\u001b[0m \u001b[1;33m*\u001b[0m \u001b[1;36m10\u001b[0m\u001b[1;33m\u001b[0m\u001b[1;33m\u001b[0m\u001b[0m\n\u001b[0;32m      3\u001b[0m \u001b[0mfl\u001b[0m\u001b[1;33m.\u001b[0m\u001b[0mgroupby\u001b[0m\u001b[1;33m(\u001b[0m\u001b[1;34m'decade'\u001b[0m\u001b[1;33m)\u001b[0m\u001b[1;33m.\u001b[0m\u001b[0msize\u001b[0m\u001b[1;33m(\u001b[0m\u001b[1;33m)\u001b[0m\u001b[1;33m.\u001b[0m\u001b[0mplot\u001b[0m\u001b[1;33m(\u001b[0m\u001b[0mkind\u001b[0m\u001b[1;33m=\u001b[0m\u001b[1;34m'bar'\u001b[0m\u001b[1;33m)\u001b[0m\u001b[1;33m\u001b[0m\u001b[1;33m\u001b[0m\u001b[0m\n\u001b[1;32m----> 4\u001b[1;33m \u001b[0mtitles\u001b[0m\u001b[1;33m[\u001b[0m\u001b[1;34m'decade'\u001b[0m\u001b[1;33m]\u001b[0m \u001b[1;33m=\u001b[0m \u001b[0mtitles\u001b[0m\u001b[1;33m.\u001b[0m\u001b[0myear\u001b[0m \u001b[1;33m//\u001b[0m \u001b[1;36m10\u001b[0m \u001b[1;33m*\u001b[0m \u001b[1;36m10\u001b[0m\u001b[1;33m\u001b[0m\u001b[1;33m\u001b[0m\u001b[0m\n\u001b[0m\u001b[0;32m      5\u001b[0m \u001b[0mtitles\u001b[0m\u001b[1;33m.\u001b[0m\u001b[0mgroupby\u001b[0m\u001b[1;33m(\u001b[0m\u001b[1;34m'decade'\u001b[0m\u001b[1;33m)\u001b[0m\u001b[1;33m.\u001b[0m\u001b[0msize\u001b[0m\u001b[1;33m(\u001b[0m\u001b[1;33m)\u001b[0m\u001b[1;33m.\u001b[0m\u001b[0mplot\u001b[0m\u001b[1;33m(\u001b[0m\u001b[0mkind\u001b[0m\u001b[1;33m=\u001b[0m\u001b[1;34m'bar'\u001b[0m\u001b[1;33m)\u001b[0m\u001b[1;33m\u001b[0m\u001b[1;33m\u001b[0m\u001b[0m\n\u001b[0;32m      6\u001b[0m \u001b[1;33m\u001b[0m\u001b[0m\n",
      "\u001b[1;31mNameError\u001b[0m: name 'titles' is not defined"
     ]
    },
    {
     "data": {
      "image/png": "[encoded data removed]",
      "text/plain": [
       "<Figure size 640x480 with 1 Axes>"
      ]
     },
     "metadata": {},
     "output_type": "display_data"
    }
   ],
   "source": [
    "##Using groupby(), plot the number of films that have been released each decade in the history of cinema.\n",
    "fl['decade'] = fl.year // 10 * 10\n",
    "fl.groupby('decade').size().plot(kind='bar')\n",
    "titles['decade'] = titles.year // 10 * 10\n",
    "titles.groupby('decade').size().plot(kind='bar')\n",
    "\n"
   ]
  },
  {
   "cell_type": "code",
   "execution_count": 54,
   "id": "a6e4dd38",
   "metadata": {},
   "outputs": [],
   "source": [
    "fl.to_csv(r'C:\\Users\\other user\\Downloads\\Films_Data\\Films_Data\\cast.csv')"
   ]
  },
  {
   "cell_type": "code",
   "execution_count": null,
   "id": "812482c3",
   "metadata": {},
   "outputs": [],
   "source": []
  }
 ],
 "metadata": {
  "kernelspec": {
   "display_name": "Python 3 (ipykernel)",
   "language": "python",
   "name": "python3"
  },
  "language_info": {
   "codemirror_mode": {
    "name": "ipython",
    "version": 3
   },
   "file_extension": ".py",
   "mimetype": "text/x-python",
   "name": "python",
   "nbconvert_exporter": "python",
   "pygments_lexer": "ipython3",
   "version": "3.9.13"
  }
 },
 "nbformat": 4,
 "nbformat_minor": 5
}
