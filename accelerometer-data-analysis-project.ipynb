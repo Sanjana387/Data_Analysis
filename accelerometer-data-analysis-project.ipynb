{
 "cells": [
  {
   "cell_type": "code",
   "execution_count": 1,
   "id": "dea5bb4a",
   "metadata": {
    "_cell_guid": "b1076dfc-b9ad-4769-8c92-a6c4dae69d19",
    "_uuid": "8f2839f25d086af736a60e9eeb907d3b93b6e0e5",
    "execution": {
     "iopub.execute_input": "2023-06-12T14:42:37.153473Z",
     "iopub.status.busy": "2023-06-12T14:42:37.152929Z",
     "iopub.status.idle": "2023-06-12T14:42:37.175328Z",
     "shell.execute_reply": "2023-06-12T14:42:37.174051Z"
    },
    "papermill": {
     "duration": 0.038641,
     "end_time": "2023-06-12T14:42:37.178718",
     "exception": false,
     "start_time": "2023-06-12T14:42:37.140077",
     "status": "completed"
    },
    "tags": []
   },
   "outputs": [
    {
     "name": "stdout",
     "output_type": "stream",
     "text": [
      "/kaggle/input/accelerometer-casestudy-dataset/accdata.csv\n"
     ]
    }
   ],
   "source": [
    "# This Python 3 environment comes with many helpful analytics libraries installed\n",
    "# It is defined by the kaggle/python Docker image: https://github.com/kaggle/docker-python\n",
    "# For example, here's several helpful packages to load\n",
    "\n",
    "import numpy as np # linear algebra\n",
    "import pandas as pd # data processing, CSV file I/O (e.g. pd.read_csv)\n",
    "import matplotlib.pyplot as plt\n",
    "\n",
    "# Input data files are available in the read-only \"../input/\" directory\n",
    "# For example, running this (by clicking run or pressing Shift+Enter) will list all files under the input directory\n",
    "\n",
    "import os\n",
    "for dirname, _, filenames in os.walk('/kaggle/input'):\n",
    "    for filename in filenames:\n",
    "        print(os.path.join(dirname, filename))\n",
    "\n",
    "# You can write up to 20GB to the current directory (/kaggle/working/) that gets preserved as output when you create a version using \"Save & Run All\" \n",
    "# You can also write temporary files to /kaggle/temp/, but they won't be saved outside of the current session"
   ]
  },
  {
   "cell_type": "code",
   "execution_count": 2,
   "id": "c6e84b65",
   "metadata": {
    "execution": {
     "iopub.execute_input": "2023-06-12T14:42:37.202585Z",
     "iopub.status.busy": "2023-06-12T14:42:37.202134Z",
     "iopub.status.idle": "2023-06-12T14:42:37.313696Z",
     "shell.execute_reply": "2023-06-12T14:42:37.312453Z"
    },
    "papermill": {
     "duration": 0.126335,
     "end_time": "2023-06-12T14:42:37.316435",
     "exception": false,
     "start_time": "2023-06-12T14:42:37.190100",
     "status": "completed"
    },
    "tags": []
   },
   "outputs": [
    {
     "data": {
      "text/html": [
       "<div>\n",
       "<style scoped>\n",
       "    .dataframe tbody tr th:only-of-type {\n",
       "        vertical-align: middle;\n",
       "    }\n",
       "\n",
       "    .dataframe tbody tr th {\n",
       "        vertical-align: top;\n",
       "    }\n",
       "\n",
       "    .dataframe thead th {\n",
       "        text-align: right;\n",
       "    }\n",
       "</style>\n",
       "<table border=\"1\" class=\"dataframe\">\n",
       "  <thead>\n",
       "    <tr style=\"text-align: right;\">\n",
       "      <th></th>\n",
       "      <th>Date</th>\n",
       "      <th>Time</th>\n",
       "      <th>accel_x</th>\n",
       "      <th>accel_y</th>\n",
       "      <th>accel_z</th>\n",
       "    </tr>\n",
       "  </thead>\n",
       "  <tbody>\n",
       "    <tr>\n",
       "      <th>0</th>\n",
       "      <td>2022-09-03</td>\n",
       "      <td>23:35:16</td>\n",
       "      <td>-1.838747</td>\n",
       "      <td>3.543418</td>\n",
       "      <td>9.126697</td>\n",
       "    </tr>\n",
       "    <tr>\n",
       "      <th>1</th>\n",
       "      <td>2022-09-03</td>\n",
       "      <td>23:35:31</td>\n",
       "      <td>1.110910</td>\n",
       "      <td>1.810017</td>\n",
       "      <td>9.634268</td>\n",
       "    </tr>\n",
       "    <tr>\n",
       "      <th>2</th>\n",
       "      <td>2022-09-03</td>\n",
       "      <td>23:35:47</td>\n",
       "      <td>8.829816</td>\n",
       "      <td>0.833182</td>\n",
       "      <td>4.663905</td>\n",
       "    </tr>\n",
       "    <tr>\n",
       "      <th>3</th>\n",
       "      <td>2022-09-03</td>\n",
       "      <td>23:36:52</td>\n",
       "      <td>-0.852336</td>\n",
       "      <td>-0.124498</td>\n",
       "      <td>9.787497</td>\n",
       "    </tr>\n",
       "    <tr>\n",
       "      <th>4</th>\n",
       "      <td>2022-09-03</td>\n",
       "      <td>23:37:44</td>\n",
       "      <td>-0.900220</td>\n",
       "      <td>-0.095768</td>\n",
       "      <td>9.835381</td>\n",
       "    </tr>\n",
       "    <tr>\n",
       "      <th>...</th>\n",
       "      <td>...</td>\n",
       "      <td>...</td>\n",
       "      <td>...</td>\n",
       "      <td>...</td>\n",
       "      <td>...</td>\n",
       "    </tr>\n",
       "    <tr>\n",
       "      <th>27932</th>\n",
       "      <td>2022-09-17</td>\n",
       "      <td>23:35:31</td>\n",
       "      <td>-3.706224</td>\n",
       "      <td>7.556100</td>\n",
       "      <td>-4.845864</td>\n",
       "    </tr>\n",
       "    <tr>\n",
       "      <th>27933</th>\n",
       "      <td>2022-09-17</td>\n",
       "      <td>23:36:12</td>\n",
       "      <td>-0.296881</td>\n",
       "      <td>0.430956</td>\n",
       "      <td>9.749189</td>\n",
       "    </tr>\n",
       "    <tr>\n",
       "      <th>27934</th>\n",
       "      <td>2022-09-17</td>\n",
       "      <td>23:36:27</td>\n",
       "      <td>-0.785298</td>\n",
       "      <td>0.603339</td>\n",
       "      <td>9.931149</td>\n",
       "    </tr>\n",
       "    <tr>\n",
       "      <th>27935</th>\n",
       "      <td>2022-09-17</td>\n",
       "      <td>23:36:42</td>\n",
       "      <td>0.229843</td>\n",
       "      <td>0.986411</td>\n",
       "      <td>9.854534</td>\n",
       "    </tr>\n",
       "    <tr>\n",
       "      <th>27936</th>\n",
       "      <td>2022-09-17</td>\n",
       "      <td>23:36:57</td>\n",
       "      <td>-0.134075</td>\n",
       "      <td>1.254562</td>\n",
       "      <td>9.758766</td>\n",
       "    </tr>\n",
       "  </tbody>\n",
       "</table>\n",
       "<p>27937 rows × 5 columns</p>\n",
       "</div>"
      ],
      "text/plain": [
       "             Date      Time   accel_x   accel_y   accel_z\n",
       "0      2022-09-03  23:35:16 -1.838747  3.543418  9.126697\n",
       "1      2022-09-03  23:35:31  1.110910  1.810017  9.634268\n",
       "2      2022-09-03  23:35:47  8.829816  0.833182  4.663905\n",
       "3      2022-09-03  23:36:52 -0.852336 -0.124498  9.787497\n",
       "4      2022-09-03  23:37:44 -0.900220 -0.095768  9.835381\n",
       "...           ...       ...       ...       ...       ...\n",
       "27932  2022-09-17  23:35:31 -3.706224  7.556100 -4.845864\n",
       "27933  2022-09-17  23:36:12 -0.296881  0.430956  9.749189\n",
       "27934  2022-09-17  23:36:27 -0.785298  0.603339  9.931149\n",
       "27935  2022-09-17  23:36:42  0.229843  0.986411  9.854534\n",
       "27936  2022-09-17  23:36:57 -0.134075  1.254562  9.758766\n",
       "\n",
       "[27937 rows x 5 columns]"
      ]
     },
     "execution_count": 2,
     "metadata": {},
     "output_type": "execute_result"
    }
   ],
   "source": [
    "acc=pd.read_csv(\"/kaggle/input/accelerometer-casestudy-dataset/accdata.csv\")\n",
    "acc"
   ]
  },
  {
   "cell_type": "code",
   "execution_count": 3,
   "id": "a69c772f",
   "metadata": {
    "execution": {
     "iopub.execute_input": "2023-06-12T14:42:37.339605Z",
     "iopub.status.busy": "2023-06-12T14:42:37.339172Z",
     "iopub.status.idle": "2023-06-12T14:42:37.353562Z",
     "shell.execute_reply": "2023-06-12T14:42:37.352526Z"
    },
    "papermill": {
     "duration": 0.028894,
     "end_time": "2023-06-12T14:42:37.356111",
     "exception": false,
     "start_time": "2023-06-12T14:42:37.327217",
     "status": "completed"
    },
    "tags": []
   },
   "outputs": [
    {
     "data": {
      "text/html": [
       "<div>\n",
       "<style scoped>\n",
       "    .dataframe tbody tr th:only-of-type {\n",
       "        vertical-align: middle;\n",
       "    }\n",
       "\n",
       "    .dataframe tbody tr th {\n",
       "        vertical-align: top;\n",
       "    }\n",
       "\n",
       "    .dataframe thead th {\n",
       "        text-align: right;\n",
       "    }\n",
       "</style>\n",
       "<table border=\"1\" class=\"dataframe\">\n",
       "  <thead>\n",
       "    <tr style=\"text-align: right;\">\n",
       "      <th></th>\n",
       "      <th>Date</th>\n",
       "      <th>Time</th>\n",
       "      <th>accel_x</th>\n",
       "      <th>accel_y</th>\n",
       "      <th>accel_z</th>\n",
       "    </tr>\n",
       "  </thead>\n",
       "  <tbody>\n",
       "    <tr>\n",
       "      <th>0</th>\n",
       "      <td>2022-09-03</td>\n",
       "      <td>23:35:16</td>\n",
       "      <td>-1.838747</td>\n",
       "      <td>3.543418</td>\n",
       "      <td>9.126697</td>\n",
       "    </tr>\n",
       "    <tr>\n",
       "      <th>1</th>\n",
       "      <td>2022-09-03</td>\n",
       "      <td>23:35:31</td>\n",
       "      <td>1.110910</td>\n",
       "      <td>1.810017</td>\n",
       "      <td>9.634268</td>\n",
       "    </tr>\n",
       "    <tr>\n",
       "      <th>2</th>\n",
       "      <td>2022-09-03</td>\n",
       "      <td>23:35:47</td>\n",
       "      <td>8.829816</td>\n",
       "      <td>0.833182</td>\n",
       "      <td>4.663905</td>\n",
       "    </tr>\n",
       "    <tr>\n",
       "      <th>3</th>\n",
       "      <td>2022-09-03</td>\n",
       "      <td>23:36:52</td>\n",
       "      <td>-0.852336</td>\n",
       "      <td>-0.124498</td>\n",
       "      <td>9.787497</td>\n",
       "    </tr>\n",
       "    <tr>\n",
       "      <th>4</th>\n",
       "      <td>2022-09-03</td>\n",
       "      <td>23:37:44</td>\n",
       "      <td>-0.900220</td>\n",
       "      <td>-0.095768</td>\n",
       "      <td>9.835381</td>\n",
       "    </tr>\n",
       "  </tbody>\n",
       "</table>\n",
       "</div>"
      ],
      "text/plain": [
       "         Date      Time   accel_x   accel_y   accel_z\n",
       "0  2022-09-03  23:35:16 -1.838747  3.543418  9.126697\n",
       "1  2022-09-03  23:35:31  1.110910  1.810017  9.634268\n",
       "2  2022-09-03  23:35:47  8.829816  0.833182  4.663905\n",
       "3  2022-09-03  23:36:52 -0.852336 -0.124498  9.787497\n",
       "4  2022-09-03  23:37:44 -0.900220 -0.095768  9.835381"
      ]
     },
     "execution_count": 3,
     "metadata": {},
     "output_type": "execute_result"
    }
   ],
   "source": [
    "acc.head(5)"
   ]
  },
  {
   "cell_type": "code",
   "execution_count": 4,
   "id": "938336cc",
   "metadata": {
    "execution": {
     "iopub.execute_input": "2023-06-12T14:42:37.381286Z",
     "iopub.status.busy": "2023-06-12T14:42:37.380882Z",
     "iopub.status.idle": "2023-06-12T14:42:38.532046Z",
     "shell.execute_reply": "2023-06-12T14:42:38.530870Z"
    },
    "papermill": {
     "duration": 1.166268,
     "end_time": "2023-06-12T14:42:38.534959",
     "exception": false,
     "start_time": "2023-06-12T14:42:37.368691",
     "status": "completed"
    },
    "tags": []
   },
   "outputs": [
    {
     "data": {
      "text/plain": [
       "<function matplotlib.pyplot.show(close=None, block=None)>"
      ]
     },
     "execution_count": 4,
     "metadata": {},
     "output_type": "execute_result"
    },
    {
     "data": {
      "image/png": "[encoded data removed]",
      "text/plain": [
       "<Figure size 1200x600 with 3 Axes>"
      ]
     },
     "metadata": {},
     "output_type": "display_data"
    }
   ],
   "source": [
    "# Plot histograms of the accelerometer readings on each axis\n",
    "plt.figure(figsize=(12, 6))\n",
    "plt.subplot(1, 3, 1)\n",
    "plt.hist(acc['accel_x'], bins=20)\n",
    "plt.xlabel('accel_x')\n",
    "plt.ylabel('Frequency')\n",
    "plt.subplot(1, 3, 2)\n",
    "plt.hist(acc['accel_y'], bins=20)\n",
    "plt.xlabel('accel_y')\n",
    "plt.ylabel('Frequency')\n",
    "plt.subplot(1, 3, 3)\n",
    "plt.hist(acc['accel_z'], bins=20)\n",
    "plt.xlabel('accel_z')\n",
    "plt.ylabel('Frequency')\n",
    "plt.tight_layout()\n",
    "plt.show"
   ]
  },
  {
   "cell_type": "code",
   "execution_count": 5,
   "id": "d7d9954e",
   "metadata": {
    "execution": {
     "iopub.execute_input": "2023-06-12T14:42:38.561252Z",
     "iopub.status.busy": "2023-06-12T14:42:38.560574Z",
     "iopub.status.idle": "2023-06-12T14:42:39.415127Z",
     "shell.execute_reply": "2023-06-12T14:42:39.413869Z"
    },
    "papermill": {
     "duration": 0.871179,
     "end_time": "2023-06-12T14:42:39.417909",
     "exception": false,
     "start_time": "2023-06-12T14:42:38.546730",
     "status": "completed"
    },
    "tags": []
   },
   "outputs": [
    {
     "data": {
      "image/png": "[encoded data removed]",
      "text/plain": [
       "<Figure size 1200x400 with 3 Axes>"
      ]
     },
     "metadata": {},
     "output_type": "display_data"
    }
   ],
   "source": [
    "# Plot scatter plots of accelerometer readings on each axis\n",
    "plt.figure(figsize=(12, 4))\n",
    "plt.subplot(1, 3, 1)\n",
    "plt.scatter(acc['accel_x'], acc['accel_y'])\n",
    "plt.xlabel('accel_x')\n",
    "plt.ylabel('accel_y')\n",
    "\n",
    "plt.subplot(1, 3, 2)\n",
    "plt.scatter(acc['accel_x'], acc['accel_z'])\n",
    "plt.xlabel('accel_x')\n",
    "plt.ylabel('accel_z')\n",
    "\n",
    "plt.subplot(1, 3, 3)\n",
    "plt.scatter(acc['accel_y'], acc['accel_z'])\n",
    "plt.xlabel('accel_y')\n",
    "plt.ylabel('accel_z')\n",
    "\n",
    "plt.tight_layout()\n",
    "plt.show()"
   ]
  },
  {
   "cell_type": "markdown",
   "id": "7112c537",
   "metadata": {
    "papermill": {
     "duration": 0.012619,
     "end_time": "2023-06-12T14:42:39.443240",
     "exception": false,
     "start_time": "2023-06-12T14:42:39.430621",
     "status": "completed"
    },
    "tags": []
   },
   "source": [
    "Time-Series Analysis:"
   ]
  },
  {
   "cell_type": "code",
   "execution_count": 6,
   "id": "c83e8426",
   "metadata": {
    "execution": {
     "iopub.execute_input": "2023-06-12T14:42:39.470569Z",
     "iopub.status.busy": "2023-06-12T14:42:39.470150Z",
     "iopub.status.idle": "2023-06-12T14:42:39.503307Z",
     "shell.execute_reply": "2023-06-12T14:42:39.502175Z"
    },
    "papermill": {
     "duration": 0.049843,
     "end_time": "2023-06-12T14:42:39.506015",
     "exception": false,
     "start_time": "2023-06-12T14:42:39.456172",
     "status": "completed"
    },
    "tags": []
   },
   "outputs": [
    {
     "data": {
      "text/plain": [
       "0       2022-09-03 23:35:16\n",
       "1       2022-09-03 23:35:31\n",
       "2       2022-09-03 23:35:47\n",
       "3       2022-09-03 23:36:52\n",
       "4       2022-09-03 23:37:44\n",
       "                ...        \n",
       "27932   2022-09-17 23:35:31\n",
       "27933   2022-09-17 23:36:12\n",
       "27934   2022-09-17 23:36:27\n",
       "27935   2022-09-17 23:36:42\n",
       "27936   2022-09-17 23:36:57\n",
       "Name: Timestamp, Length: 27937, dtype: datetime64[ns]"
      ]
     },
     "execution_count": 6,
     "metadata": {},
     "output_type": "execute_result"
    }
   ],
   "source": [
    "# Convert the 'Date' and 'Time' columns to datetime format\n",
    "acc['Timestamp'] = pd.to_datetime(acc['Date'] + ' ' + acc['Time'])\n",
    "acc['Timestamp']"
   ]
  },
  {
   "cell_type": "code",
   "execution_count": 7,
   "id": "4cffb60c",
   "metadata": {
    "execution": {
     "iopub.execute_input": "2023-06-12T14:42:39.532874Z",
     "iopub.status.busy": "2023-06-12T14:42:39.532442Z",
     "iopub.status.idle": "2023-06-12T14:42:39.539839Z",
     "shell.execute_reply": "2023-06-12T14:42:39.538550Z"
    },
    "papermill": {
     "duration": 0.023781,
     "end_time": "2023-06-12T14:42:39.542338",
     "exception": false,
     "start_time": "2023-06-12T14:42:39.518557",
     "status": "completed"
    },
    "tags": []
   },
   "outputs": [],
   "source": [
    "# Set the 'Timestamp' column as the index\n",
    "acc.set_index('Timestamp', inplace=True)"
   ]
  },
  {
   "cell_type": "code",
   "execution_count": 8,
   "id": "b40c0517",
   "metadata": {
    "execution": {
     "iopub.execute_input": "2023-06-12T14:42:39.569224Z",
     "iopub.status.busy": "2023-06-12T14:42:39.568823Z",
     "iopub.status.idle": "2023-06-12T14:42:40.188886Z",
     "shell.execute_reply": "2023-06-12T14:42:40.187947Z"
    },
    "papermill": {
     "duration": 0.636617,
     "end_time": "2023-06-12T14:42:40.191500",
     "exception": false,
     "start_time": "2023-06-12T14:42:39.554883",
     "status": "completed"
    },
    "tags": []
   },
   "outputs": [
    {
     "data": {
      "image/png": "[encoded data removed]",
      "text/plain": [
       "<Figure size 1200x600 with 1 Axes>"
      ]
     },
     "metadata": {},
     "output_type": "display_data"
    }
   ],
   "source": [
    "# Plot the acceleration values over time\n",
    "plt.figure(figsize=(12, 6))\n",
    "plt.plot(acc.index, acc['accel_x'], label='accel_x')\n",
    "plt.plot(acc.index, acc['accel_y'], label='accel_y')\n",
    "plt.plot(acc.index, acc['accel_z'], label='accel_z')\n",
    "plt.xlabel('Time')\n",
    "plt.ylabel('Acceleration (m/s^2)')\n",
    "plt.legend()\n",
    "plt.grid(True)\n",
    "plt.show()"
   ]
  },
  {
   "cell_type": "code",
   "execution_count": 9,
   "id": "3b7d9688",
   "metadata": {
    "execution": {
     "iopub.execute_input": "2023-06-12T14:42:40.221882Z",
     "iopub.status.busy": "2023-06-12T14:42:40.220686Z",
     "iopub.status.idle": "2023-06-12T14:42:41.756433Z",
     "shell.execute_reply": "2023-06-12T14:42:41.755063Z"
    },
    "papermill": {
     "duration": 1.554025,
     "end_time": "2023-06-12T14:42:41.759348",
     "exception": false,
     "start_time": "2023-06-12T14:42:40.205323",
     "status": "completed"
    },
    "tags": []
   },
   "outputs": [],
   "source": [
    "from sklearn.model_selection import train_test_split\n",
    "from sklearn.tree import DecisionTreeClassifier\n",
    "from sklearn.metrics import accuracy_score"
   ]
  },
  {
   "cell_type": "code",
   "execution_count": 10,
   "id": "49755cfb",
   "metadata": {
    "execution": {
     "iopub.execute_input": "2023-06-12T14:42:41.789791Z",
     "iopub.status.busy": "2023-06-12T14:42:41.789250Z",
     "iopub.status.idle": "2023-06-12T14:42:41.799074Z",
     "shell.execute_reply": "2023-06-12T14:42:41.797799Z"
    },
    "papermill": {
     "duration": 0.028434,
     "end_time": "2023-06-12T14:42:41.801873",
     "exception": false,
     "start_time": "2023-06-12T14:42:41.773439",
     "status": "completed"
    },
    "tags": []
   },
   "outputs": [],
   "source": [
    "# Prepare the features (acceleration values) and target (activity labels)\n",
    "X = acc[['accel_x', 'accel_y', 'accel_z']]\n",
    "y = acc['Time']"
   ]
  },
  {
   "cell_type": "code",
   "execution_count": 11,
   "id": "497c3a06",
   "metadata": {
    "execution": {
     "iopub.execute_input": "2023-06-12T14:42:41.832303Z",
     "iopub.status.busy": "2023-06-12T14:42:41.831855Z",
     "iopub.status.idle": "2023-06-12T14:42:41.837816Z",
     "shell.execute_reply": "2023-06-12T14:42:41.836885Z"
    },
    "papermill": {
     "duration": 0.024252,
     "end_time": "2023-06-12T14:42:41.840255",
     "exception": false,
     "start_time": "2023-06-12T14:42:41.816003",
     "status": "completed"
    },
    "tags": []
   },
   "outputs": [
    {
     "name": "stdout",
     "output_type": "stream",
     "text": [
      "Index(['Date', 'Time', 'accel_x', 'accel_y', 'accel_z'], dtype='object')\n"
     ]
    }
   ],
   "source": [
    "print(acc.columns)"
   ]
  },
  {
   "cell_type": "code",
   "execution_count": 12,
   "id": "65ffa78a",
   "metadata": {
    "execution": {
     "iopub.execute_input": "2023-06-12T14:42:41.870624Z",
     "iopub.status.busy": "2023-06-12T14:42:41.870153Z",
     "iopub.status.idle": "2023-06-12T14:42:41.883758Z",
     "shell.execute_reply": "2023-06-12T14:42:41.882448Z"
    },
    "papermill": {
     "duration": 0.032543,
     "end_time": "2023-06-12T14:42:41.886742",
     "exception": false,
     "start_time": "2023-06-12T14:42:41.854199",
     "status": "completed"
    },
    "tags": []
   },
   "outputs": [],
   "source": [
    "# Split the data into training and testing sets\n",
    "X_train, X_test, y_train, y_test = train_test_split(X, y, test_size=0.2, random_state=42)"
   ]
  },
  {
   "cell_type": "code",
   "execution_count": 13,
   "id": "1ad813cd",
   "metadata": {
    "execution": {
     "iopub.execute_input": "2023-06-12T14:42:41.916487Z",
     "iopub.status.busy": "2023-06-12T14:42:41.916075Z",
     "iopub.status.idle": "2023-06-12T14:42:41.934027Z",
     "shell.execute_reply": "2023-06-12T14:42:41.932706Z"
    },
    "papermill": {
     "duration": 0.035804,
     "end_time": "2023-06-12T14:42:41.936603",
     "exception": false,
     "start_time": "2023-06-12T14:42:41.900799",
     "status": "completed"
    },
    "tags": []
   },
   "outputs": [
    {
     "data": {
      "text/plain": [
       "(                      accel_x   accel_y   accel_z\n",
       " Timestamp                                        \n",
       " 2022-09-04 10:19:08  0.459687 -0.181959  9.854534\n",
       " 2022-09-17 12:57:03  0.162806 -0.268151  9.873688\n",
       " 2022-09-17 15:59:57 -0.143652  8.580819 -4.309563\n",
       " 2022-09-08 17:50:48  1.417367 -1.561020  9.634268\n",
       " 2022-09-08 23:52:58  1.580173  9.040505  3.629610\n",
       " ...                       ...       ...       ...\n",
       " 2022-09-14 16:14:22  1.359907  0.861913  9.749189\n",
       " 2022-09-06 10:40:16  0.488417 -0.076614  9.902418\n",
       " 2022-09-04 14:06:18  7.776367 -0.076614  6.205771\n",
       " 2022-09-11 14:44:13  7.115568  3.562572 -5.832275\n",
       " 2022-09-15 20:46:06 -0.411803  0.153229  9.768343\n",
       " \n",
       " [22349 rows x 3 columns],\n",
       "                       accel_x   accel_y   accel_z\n",
       " Timestamp                                        \n",
       " 2022-09-10 20:54:34 -0.143652  3.543418  9.270349\n",
       " 2022-09-08 12:12:33  0.373495 -0.114922  9.902418\n",
       " 2022-09-04 22:03:23  0.306458 -0.038307  9.940725\n",
       " 2022-09-16 03:09:23 -9.011775 -2.317587  1.924938\n",
       " 2022-09-13 20:55:16  0.459687 -0.210690  9.816227\n",
       " ...                       ...       ...       ...\n",
       " 2022-09-08 09:57:22 -0.277727  4.175488  9.212888\n",
       " 2022-09-17 10:32:35  3.869030  8.887277  2.212242\n",
       " 2022-09-10 20:24:03  0.584185  2.260126  9.940725\n",
       " 2022-09-15 21:40:12 -4.481946  8.408437  0.086191\n",
       " 2022-09-08 11:12:08  0.335188 -0.028730  9.911995\n",
       " \n",
       " [5588 rows x 3 columns],\n",
       " Timestamp\n",
       " 2022-09-04 10:19:08    10:19:08\n",
       " 2022-09-17 12:57:03    12:57:03\n",
       " 2022-09-17 15:59:57    15:59:57\n",
       " 2022-09-08 17:50:48    17:50:48\n",
       " 2022-09-08 23:52:58    23:52:58\n",
       "                          ...   \n",
       " 2022-09-14 16:14:22    16:14:22\n",
       " 2022-09-06 10:40:16    10:40:16\n",
       " 2022-09-04 14:06:18    14:06:18\n",
       " 2022-09-11 14:44:13    14:44:13\n",
       " 2022-09-15 20:46:06    20:46:06\n",
       " Name: Time, Length: 22349, dtype: object,\n",
       " Timestamp\n",
       " 2022-09-10 20:54:34    20:54:34\n",
       " 2022-09-08 12:12:33    12:12:33\n",
       " 2022-09-04 22:03:23    22:03:23\n",
       " 2022-09-16 03:09:23    03:09:23\n",
       " 2022-09-13 20:55:16    20:55:16\n",
       "                          ...   \n",
       " 2022-09-08 09:57:22    09:57:22\n",
       " 2022-09-17 10:32:35    10:32:35\n",
       " 2022-09-10 20:24:03    20:24:03\n",
       " 2022-09-15 21:40:12    21:40:12\n",
       " 2022-09-08 11:12:08    11:12:08\n",
       " Name: Time, Length: 5588, dtype: object)"
      ]
     },
     "execution_count": 13,
     "metadata": {},
     "output_type": "execute_result"
    }
   ],
   "source": [
    "X_train, X_test, y_train, y_test"
   ]
  },
  {
   "cell_type": "code",
   "execution_count": 14,
   "id": "cccd0e82",
   "metadata": {
    "execution": {
     "iopub.execute_input": "2023-06-12T14:42:41.967203Z",
     "iopub.status.busy": "2023-06-12T14:42:41.966781Z",
     "iopub.status.idle": "2023-06-12T14:42:41.980465Z",
     "shell.execute_reply": "2023-06-12T14:42:41.979242Z"
    },
    "papermill": {
     "duration": 0.032273,
     "end_time": "2023-06-12T14:42:41.983282",
     "exception": false,
     "start_time": "2023-06-12T14:42:41.951009",
     "status": "completed"
    },
    "tags": []
   },
   "outputs": [
    {
     "data": {
      "text/html": [
       "<style>#sk-container-id-1 {color: black;background-color: white;}#sk-container-id-1 pre{padding: 0;}#sk-container-id-1 div.sk-toggleable {background-color: white;}#sk-container-id-1 label.sk-toggleable__label {cursor: pointer;display: block;width: 100%;margin-bottom: 0;padding: 0.3em;box-sizing: border-box;text-align: center;}#sk-container-id-1 label.sk-toggleable__label-arrow:before {content: \"▸\";float: left;margin-right: 0.25em;color: #696969;}#sk-container-id-1 label.sk-toggleable__label-arrow:hover:before {color: black;}#sk-container-id-1 div.sk-estimator:hover label.sk-toggleable__label-arrow:before {color: black;}#sk-container-id-1 div.sk-toggleable__content {max-height: 0;max-width: 0;overflow: hidden;text-align: left;background-color: #f0f8ff;}#sk-container-id-1 div.sk-toggleable__content pre {margin: 0.2em;color: black;border-radius: 0.25em;background-color: #f0f8ff;}#sk-container-id-1 input.sk-toggleable__control:checked~div.sk-toggleable__content {max-height: 200px;max-width: 100%;overflow: auto;}#sk-container-id-1 input.sk-toggleable__control:checked~label.sk-toggleable__label-arrow:before {content: \"▾\";}#sk-container-id-1 div.sk-estimator input.sk-toggleable__control:checked~label.sk-toggleable__label {background-color: #d4ebff;}#sk-container-id-1 div.sk-label input.sk-toggleable__control:checked~label.sk-toggleable__label {background-color: #d4ebff;}#sk-container-id-1 input.sk-hidden--visually {border: 0;clip: rect(1px 1px 1px 1px);clip: rect(1px, 1px, 1px, 1px);height: 1px;margin: -1px;overflow: hidden;padding: 0;position: absolute;width: 1px;}#sk-container-id-1 div.sk-estimator {font-family: monospace;background-color: #f0f8ff;border: 1px dotted black;border-radius: 0.25em;box-sizing: border-box;margin-bottom: 0.5em;}#sk-container-id-1 div.sk-estimator:hover {background-color: #d4ebff;}#sk-container-id-1 div.sk-parallel-item::after {content: \"\";width: 100%;border-bottom: 1px solid gray;flex-grow: 1;}#sk-container-id-1 div.sk-label:hover label.sk-toggleable__label {background-color: #d4ebff;}#sk-container-id-1 div.sk-serial::before {content: \"\";position: absolute;border-left: 1px solid gray;box-sizing: border-box;top: 0;bottom: 0;left: 50%;z-index: 0;}#sk-container-id-1 div.sk-serial {display: flex;flex-direction: column;align-items: center;background-color: white;padding-right: 0.2em;padding-left: 0.2em;position: relative;}#sk-container-id-1 div.sk-item {position: relative;z-index: 1;}#sk-container-id-1 div.sk-parallel {display: flex;align-items: stretch;justify-content: center;background-color: white;position: relative;}#sk-container-id-1 div.sk-item::before, #sk-container-id-1 div.sk-parallel-item::before {content: \"\";position: absolute;border-left: 1px solid gray;box-sizing: border-box;top: 0;bottom: 0;left: 50%;z-index: -1;}#sk-container-id-1 div.sk-parallel-item {display: flex;flex-direction: column;z-index: 1;position: relative;background-color: white;}#sk-container-id-1 div.sk-parallel-item:first-child::after {align-self: flex-end;width: 50%;}#sk-container-id-1 div.sk-parallel-item:last-child::after {align-self: flex-start;width: 50%;}#sk-container-id-1 div.sk-parallel-item:only-child::after {width: 0;}#sk-container-id-1 div.sk-dashed-wrapped {border: 1px dashed gray;margin: 0 0.4em 0.5em 0.4em;box-sizing: border-box;padding-bottom: 0.4em;background-color: white;}#sk-container-id-1 div.sk-label label {font-family: monospace;font-weight: bold;display: inline-block;line-height: 1.2em;}#sk-container-id-1 div.sk-label-container {text-align: center;}#sk-container-id-1 div.sk-container {/* jupyter's `normalize.less` sets `[hidden] { display: none; }` but bootstrap.min.css set `[hidden] { display: none !important; }` so we also need the `!important` here to be able to override the default hidden behavior on the sphinx rendered scikit-learn.org. See: https://github.com/scikit-learn/scikit-learn/issues/21755 */display: inline-block !important;position: relative;}#sk-container-id-1 div.sk-text-repr-fallback {display: none;}</style><div id=\"sk-container-id-1\" class=\"sk-top-container\"><div class=\"sk-text-repr-fallback\"><pre>DecisionTreeClassifier()</pre><b>In a Jupyter environment, please rerun this cell to show the HTML representation or trust the notebook. <br />On GitHub, the HTML representation is unable to render, please try loading this page with nbviewer.org.</b></div><div class=\"sk-container\" hidden><div class=\"sk-item\"><div class=\"sk-estimator sk-toggleable\"><input class=\"sk-toggleable__control sk-hidden--visually\" id=\"sk-estimator-id-1\" type=\"checkbox\" checked><label for=\"sk-estimator-id-1\" class=\"sk-toggleable__label sk-toggleable__label-arrow\">DecisionTreeClassifier</label><div class=\"sk-toggleable__content\"><pre>DecisionTreeClassifier()</pre></div></div></div></div></div>"
      ],
      "text/plain": [
       "DecisionTreeClassifier()"
      ]
     },
     "execution_count": 14,
     "metadata": {},
     "output_type": "execute_result"
    }
   ],
   "source": [
    "# Initialize a decision tree classifier\n",
    "classifier = DecisionTreeClassifier()\n",
    "classifier"
   ]
  },
  {
   "cell_type": "code",
   "execution_count": 15,
   "id": "950fcdfa",
   "metadata": {
    "execution": {
     "iopub.execute_input": "2023-06-12T14:42:42.015380Z",
     "iopub.status.busy": "2023-06-12T14:42:42.014493Z",
     "iopub.status.idle": "2023-06-12T14:44:06.955689Z",
     "shell.execute_reply": "2023-06-12T14:44:06.954377Z"
    },
    "papermill": {
     "duration": 84.974972,
     "end_time": "2023-06-12T14:44:06.972873",
     "exception": false,
     "start_time": "2023-06-12T14:42:41.997901",
     "status": "completed"
    },
    "tags": []
   },
   "outputs": [
    {
     "data": {
      "text/html": [
       "<style>#sk-container-id-2 {color: black;background-color: white;}#sk-container-id-2 pre{padding: 0;}#sk-container-id-2 div.sk-toggleable {background-color: white;}#sk-container-id-2 label.sk-toggleable__label {cursor: pointer;display: block;width: 100%;margin-bottom: 0;padding: 0.3em;box-sizing: border-box;text-align: center;}#sk-container-id-2 label.sk-toggleable__label-arrow:before {content: \"▸\";float: left;margin-right: 0.25em;color: #696969;}#sk-container-id-2 label.sk-toggleable__label-arrow:hover:before {color: black;}#sk-container-id-2 div.sk-estimator:hover label.sk-toggleable__label-arrow:before {color: black;}#sk-container-id-2 div.sk-toggleable__content {max-height: 0;max-width: 0;overflow: hidden;text-align: left;background-color: #f0f8ff;}#sk-container-id-2 div.sk-toggleable__content pre {margin: 0.2em;color: black;border-radius: 0.25em;background-color: #f0f8ff;}#sk-container-id-2 input.sk-toggleable__control:checked~div.sk-toggleable__content {max-height: 200px;max-width: 100%;overflow: auto;}#sk-container-id-2 input.sk-toggleable__control:checked~label.sk-toggleable__label-arrow:before {content: \"▾\";}#sk-container-id-2 div.sk-estimator input.sk-toggleable__control:checked~label.sk-toggleable__label {background-color: #d4ebff;}#sk-container-id-2 div.sk-label input.sk-toggleable__control:checked~label.sk-toggleable__label {background-color: #d4ebff;}#sk-container-id-2 input.sk-hidden--visually {border: 0;clip: rect(1px 1px 1px 1px);clip: rect(1px, 1px, 1px, 1px);height: 1px;margin: -1px;overflow: hidden;padding: 0;position: absolute;width: 1px;}#sk-container-id-2 div.sk-estimator {font-family: monospace;background-color: #f0f8ff;border: 1px dotted black;border-radius: 0.25em;box-sizing: border-box;margin-bottom: 0.5em;}#sk-container-id-2 div.sk-estimator:hover {background-color: #d4ebff;}#sk-container-id-2 div.sk-parallel-item::after {content: \"\";width: 100%;border-bottom: 1px solid gray;flex-grow: 1;}#sk-container-id-2 div.sk-label:hover label.sk-toggleable__label {background-color: #d4ebff;}#sk-container-id-2 div.sk-serial::before {content: \"\";position: absolute;border-left: 1px solid gray;box-sizing: border-box;top: 0;bottom: 0;left: 50%;z-index: 0;}#sk-container-id-2 div.sk-serial {display: flex;flex-direction: column;align-items: center;background-color: white;padding-right: 0.2em;padding-left: 0.2em;position: relative;}#sk-container-id-2 div.sk-item {position: relative;z-index: 1;}#sk-container-id-2 div.sk-parallel {display: flex;align-items: stretch;justify-content: center;background-color: white;position: relative;}#sk-container-id-2 div.sk-item::before, #sk-container-id-2 div.sk-parallel-item::before {content: \"\";position: absolute;border-left: 1px solid gray;box-sizing: border-box;top: 0;bottom: 0;left: 50%;z-index: -1;}#sk-container-id-2 div.sk-parallel-item {display: flex;flex-direction: column;z-index: 1;position: relative;background-color: white;}#sk-container-id-2 div.sk-parallel-item:first-child::after {align-self: flex-end;width: 50%;}#sk-container-id-2 div.sk-parallel-item:last-child::after {align-self: flex-start;width: 50%;}#sk-container-id-2 div.sk-parallel-item:only-child::after {width: 0;}#sk-container-id-2 div.sk-dashed-wrapped {border: 1px dashed gray;margin: 0 0.4em 0.5em 0.4em;box-sizing: border-box;padding-bottom: 0.4em;background-color: white;}#sk-container-id-2 div.sk-label label {font-family: monospace;font-weight: bold;display: inline-block;line-height: 1.2em;}#sk-container-id-2 div.sk-label-container {text-align: center;}#sk-container-id-2 div.sk-container {/* jupyter's `normalize.less` sets `[hidden] { display: none; }` but bootstrap.min.css set `[hidden] { display: none !important; }` so we also need the `!important` here to be able to override the default hidden behavior on the sphinx rendered scikit-learn.org. See: https://github.com/scikit-learn/scikit-learn/issues/21755 */display: inline-block !important;position: relative;}#sk-container-id-2 div.sk-text-repr-fallback {display: none;}</style><div id=\"sk-container-id-2\" class=\"sk-top-container\"><div class=\"sk-text-repr-fallback\"><pre>DecisionTreeClassifier()</pre><b>In a Jupyter environment, please rerun this cell to show the HTML representation or trust the notebook. <br />On GitHub, the HTML representation is unable to render, please try loading this page with nbviewer.org.</b></div><div class=\"sk-container\" hidden><div class=\"sk-item\"><div class=\"sk-estimator sk-toggleable\"><input class=\"sk-toggleable__control sk-hidden--visually\" id=\"sk-estimator-id-2\" type=\"checkbox\" checked><label for=\"sk-estimator-id-2\" class=\"sk-toggleable__label sk-toggleable__label-arrow\">DecisionTreeClassifier</label><div class=\"sk-toggleable__content\"><pre>DecisionTreeClassifier()</pre></div></div></div></div></div>"
      ],
      "text/plain": [
       "DecisionTreeClassifier()"
      ]
     },
     "execution_count": 15,
     "metadata": {},
     "output_type": "execute_result"
    }
   ],
   "source": [
    "# Train the classifier on the training data\n",
    "classifier.fit(X_train, y_train)"
   ]
  },
  {
   "cell_type": "code",
   "execution_count": 16,
   "id": "5d953a2d",
   "metadata": {
    "execution": {
     "iopub.execute_input": "2023-06-12T14:44:07.005376Z",
     "iopub.status.busy": "2023-06-12T14:44:07.004462Z",
     "iopub.status.idle": "2023-06-12T14:44:07.396043Z",
     "shell.execute_reply": "2023-06-12T14:44:07.394930Z"
    },
    "papermill": {
     "duration": 0.411057,
     "end_time": "2023-06-12T14:44:07.399240",
     "exception": false,
     "start_time": "2023-06-12T14:44:06.988183",
     "status": "completed"
    },
    "tags": []
   },
   "outputs": [],
   "source": [
    "# Predict the activities for the test data\n",
    "y_pred = classifier.predict(X_test)"
   ]
  },
  {
   "cell_type": "code",
   "execution_count": 17,
   "id": "2ebecae3",
   "metadata": {
    "execution": {
     "iopub.execute_input": "2023-06-12T14:44:07.430404Z",
     "iopub.status.busy": "2023-06-12T14:44:07.430004Z",
     "iopub.status.idle": "2023-06-12T14:44:07.456433Z",
     "shell.execute_reply": "2023-06-12T14:44:07.454946Z"
    },
    "papermill": {
     "duration": 0.04521,
     "end_time": "2023-06-12T14:44:07.459264",
     "exception": false,
     "start_time": "2023-06-12T14:44:07.414054",
     "status": "completed"
    },
    "tags": []
   },
   "outputs": [
    {
     "name": "stdout",
     "output_type": "stream",
     "text": [
      "Accuracy: 0.0\n"
     ]
    }
   ],
   "source": [
    "# Evaluate the accuracy of the classifier\n",
    "accuracy = accuracy_score(y_test, y_pred)\n",
    "print(\"Accuracy:\", accuracy)"
   ]
  },
  {
   "cell_type": "markdown",
   "id": "986440d6",
   "metadata": {
    "papermill": {
     "duration": 0.014661,
     "end_time": "2023-06-12T14:44:07.489547",
     "exception": false,
     "start_time": "2023-06-12T14:44:07.474886",
     "status": "completed"
    },
    "tags": []
   },
   "source": [
    "Feature Engineering:"
   ]
  },
  {
   "cell_type": "code",
   "execution_count": 18,
   "id": "49ebb6be",
   "metadata": {
    "execution": {
     "iopub.execute_input": "2023-06-12T14:44:07.522044Z",
     "iopub.status.busy": "2023-06-12T14:44:07.521624Z",
     "iopub.status.idle": "2023-06-12T14:44:07.533065Z",
     "shell.execute_reply": "2023-06-12T14:44:07.531718Z"
    },
    "papermill": {
     "duration": 0.031127,
     "end_time": "2023-06-12T14:44:07.535689",
     "exception": false,
     "start_time": "2023-06-12T14:44:07.504562",
     "status": "completed"
    },
    "tags": []
   },
   "outputs": [],
   "source": [
    "# Calculate the magnitude of acceleration\n",
    "acc['accel_magnitude'] = np.sqrt(acc['accel_x']**2 + acc['accel_y']**2 + acc['accel_z']**2)\n"
   ]
  },
  {
   "cell_type": "code",
   "execution_count": 19,
   "id": "85203f9f",
   "metadata": {
    "execution": {
     "iopub.execute_input": "2023-06-12T14:44:07.568434Z",
     "iopub.status.busy": "2023-06-12T14:44:07.568003Z",
     "iopub.status.idle": "2023-06-12T14:44:07.577411Z",
     "shell.execute_reply": "2023-06-12T14:44:07.576545Z"
    },
    "papermill": {
     "duration": 0.02858,
     "end_time": "2023-06-12T14:44:07.579724",
     "exception": false,
     "start_time": "2023-06-12T14:44:07.551144",
     "status": "completed"
    },
    "tags": []
   },
   "outputs": [
    {
     "data": {
      "text/plain": [
       "Timestamp\n",
       "2022-09-03 23:35:16     9.961596\n",
       "2022-09-03 23:35:31     9.865566\n",
       "2022-09-03 23:35:47    10.020571\n",
       "2022-09-03 23:36:52     9.825328\n",
       "2022-09-03 23:37:44     9.876957\n",
       "                         ...    \n",
       "2022-09-17 23:35:31     9.711496\n",
       "2022-09-17 23:36:12     9.763225\n",
       "2022-09-17 23:36:27     9.980402\n",
       "2022-09-17 23:36:42     9.906446\n",
       "2022-09-17 23:36:57     9.839991\n",
       "Name: accel_magnitude, Length: 27937, dtype: float64"
      ]
     },
     "execution_count": 19,
     "metadata": {},
     "output_type": "execute_result"
    }
   ],
   "source": [
    "acc['accel_magnitude']"
   ]
  },
  {
   "cell_type": "code",
   "execution_count": 20,
   "id": "d873caa3",
   "metadata": {
    "execution": {
     "iopub.execute_input": "2023-06-12T14:44:07.612661Z",
     "iopub.status.busy": "2023-06-12T14:44:07.611550Z",
     "iopub.status.idle": "2023-06-12T14:44:07.617235Z",
     "shell.execute_reply": "2023-06-12T14:44:07.616067Z"
    },
    "papermill": {
     "duration": 0.025142,
     "end_time": "2023-06-12T14:44:07.619813",
     "exception": false,
     "start_time": "2023-06-12T14:44:07.594671",
     "status": "completed"
    },
    "tags": []
   },
   "outputs": [],
   "source": [
    "# Compute statistics for specific time intervals\n",
    "# For example, compute mean, standard deviation, and peak values for every hour\n",
    "interval = '1H'  # Change this to the desired time interval"
   ]
  },
  {
   "cell_type": "code",
   "execution_count": 21,
   "id": "08ade093",
   "metadata": {
    "execution": {
     "iopub.execute_input": "2023-06-12T14:44:07.651715Z",
     "iopub.status.busy": "2023-06-12T14:44:07.651266Z",
     "iopub.status.idle": "2023-06-12T14:44:09.256838Z",
     "shell.execute_reply": "2023-06-12T14:44:09.255904Z"
    },
    "papermill": {
     "duration": 1.624563,
     "end_time": "2023-06-12T14:44:09.259374",
     "exception": false,
     "start_time": "2023-06-12T14:44:07.634811",
     "status": "completed"
    },
    "tags": []
   },
   "outputs": [
    {
     "data": {
      "text/plain": [
       "Timestamp\n",
       "2022-09-03 23:35:16   2023-06-12 23:35:16\n",
       "2022-09-03 23:35:31   2023-06-12 23:35:31\n",
       "2022-09-03 23:35:47   2023-06-12 23:35:47\n",
       "2022-09-03 23:36:52   2023-06-12 23:36:52\n",
       "2022-09-03 23:37:44   2023-06-12 23:37:44\n",
       "                              ...        \n",
       "2022-09-17 23:35:31   2023-06-12 23:35:31\n",
       "2022-09-17 23:36:12   2023-06-12 23:36:12\n",
       "2022-09-17 23:36:27   2023-06-12 23:36:27\n",
       "2022-09-17 23:36:42   2023-06-12 23:36:42\n",
       "2022-09-17 23:36:57   2023-06-12 23:36:57\n",
       "Name: Timestamp, Length: 27937, dtype: datetime64[ns]"
      ]
     },
     "execution_count": 21,
     "metadata": {},
     "output_type": "execute_result"
    }
   ],
   "source": [
    "# Convert the 'Time' column to a timestamp\n",
    "acc['Timestamp'] = pd.to_datetime(acc['Time'])\n",
    "acc['Timestamp']"
   ]
  },
  {
   "cell_type": "code",
   "execution_count": 22,
   "id": "53076b86",
   "metadata": {
    "execution": {
     "iopub.execute_input": "2023-06-12T14:44:09.292043Z",
     "iopub.status.busy": "2023-06-12T14:44:09.291108Z",
     "iopub.status.idle": "2023-06-12T14:44:09.358967Z",
     "shell.execute_reply": "2023-06-12T14:44:09.357568Z"
    },
    "papermill": {
     "duration": 0.087398,
     "end_time": "2023-06-12T14:44:09.361802",
     "exception": false,
     "start_time": "2023-06-12T14:44:09.274404",
     "status": "completed"
    },
    "tags": []
   },
   "outputs": [
    {
     "name": "stdout",
     "output_type": "stream",
     "text": [
      "                     accel_mean  accel_std  accel_peak\n",
      "Timestamp                                             \n",
      "2023-06-12 00:00:00    9.846286   0.596662   19.926834\n",
      "2023-06-12 01:00:00    9.902483   0.554624   15.748269\n",
      "2023-06-12 02:00:00    9.856569   0.651549   14.961992\n",
      "2023-06-12 03:00:00    9.809170   0.343792   11.578145\n",
      "2023-06-12 04:00:00    9.869557   0.166872   10.805533\n"
     ]
    }
   ],
   "source": [
    "# Group the data by the specified time interval and calculate the statistics\n",
    "acc_interval = acc.groupby(pd.Grouper(key='Timestamp', freq=interval)).agg(\n",
    "    accel_mean=('accel_magnitude', 'mean'),\n",
    "    accel_std=('accel_magnitude', 'std'),\n",
    "    accel_peak=('accel_magnitude', 'max')\n",
    ")\n",
    "\n",
    "print(acc_interval.head())"
   ]
  },
  {
   "cell_type": "markdown",
   "id": "1ba38647",
   "metadata": {
    "papermill": {
     "duration": 0.01535,
     "end_time": "2023-06-12T14:44:09.392539",
     "exception": false,
     "start_time": "2023-06-12T14:44:09.377189",
     "status": "completed"
    },
    "tags": []
   },
   "source": [
    "Anomaly Detection: "
   ]
  },
  {
   "cell_type": "code",
   "execution_count": 23,
   "id": "4c34c473",
   "metadata": {
    "execution": {
     "iopub.execute_input": "2023-06-12T14:44:09.424848Z",
     "iopub.status.busy": "2023-06-12T14:44:09.424380Z",
     "iopub.status.idle": "2023-06-12T14:44:09.559214Z",
     "shell.execute_reply": "2023-06-12T14:44:09.557886Z"
    },
    "papermill": {
     "duration": 0.154509,
     "end_time": "2023-06-12T14:44:09.562313",
     "exception": false,
     "start_time": "2023-06-12T14:44:09.407804",
     "status": "completed"
    },
    "tags": []
   },
   "outputs": [],
   "source": [
    "from sklearn.ensemble import IsolationForest"
   ]
  },
  {
   "cell_type": "code",
   "execution_count": 24,
   "id": "dcdb8707",
   "metadata": {
    "execution": {
     "iopub.execute_input": "2023-06-12T14:44:09.594496Z",
     "iopub.status.busy": "2023-06-12T14:44:09.594082Z",
     "iopub.status.idle": "2023-06-12T14:44:09.610503Z",
     "shell.execute_reply": "2023-06-12T14:44:09.609259Z"
    },
    "papermill": {
     "duration": 0.03525,
     "end_time": "2023-06-12T14:44:09.612908",
     "exception": false,
     "start_time": "2023-06-12T14:44:09.577658",
     "status": "completed"
    },
    "tags": []
   },
   "outputs": [
    {
     "data": {
      "text/html": [
       "<div>\n",
       "<style scoped>\n",
       "    .dataframe tbody tr th:only-of-type {\n",
       "        vertical-align: middle;\n",
       "    }\n",
       "\n",
       "    .dataframe tbody tr th {\n",
       "        vertical-align: top;\n",
       "    }\n",
       "\n",
       "    .dataframe thead th {\n",
       "        text-align: right;\n",
       "    }\n",
       "</style>\n",
       "<table border=\"1\" class=\"dataframe\">\n",
       "  <thead>\n",
       "    <tr style=\"text-align: right;\">\n",
       "      <th></th>\n",
       "      <th>accel_x</th>\n",
       "      <th>accel_y</th>\n",
       "      <th>accel_z</th>\n",
       "    </tr>\n",
       "    <tr>\n",
       "      <th>Timestamp</th>\n",
       "      <th></th>\n",
       "      <th></th>\n",
       "      <th></th>\n",
       "    </tr>\n",
       "  </thead>\n",
       "  <tbody>\n",
       "    <tr>\n",
       "      <th>2022-09-03 23:35:16</th>\n",
       "      <td>-1.838747</td>\n",
       "      <td>3.543418</td>\n",
       "      <td>9.126697</td>\n",
       "    </tr>\n",
       "    <tr>\n",
       "      <th>2022-09-03 23:35:31</th>\n",
       "      <td>1.110910</td>\n",
       "      <td>1.810017</td>\n",
       "      <td>9.634268</td>\n",
       "    </tr>\n",
       "    <tr>\n",
       "      <th>2022-09-03 23:35:47</th>\n",
       "      <td>8.829816</td>\n",
       "      <td>0.833182</td>\n",
       "      <td>4.663905</td>\n",
       "    </tr>\n",
       "    <tr>\n",
       "      <th>2022-09-03 23:36:52</th>\n",
       "      <td>-0.852336</td>\n",
       "      <td>-0.124498</td>\n",
       "      <td>9.787497</td>\n",
       "    </tr>\n",
       "    <tr>\n",
       "      <th>2022-09-03 23:37:44</th>\n",
       "      <td>-0.900220</td>\n",
       "      <td>-0.095768</td>\n",
       "      <td>9.835381</td>\n",
       "    </tr>\n",
       "    <tr>\n",
       "      <th>...</th>\n",
       "      <td>...</td>\n",
       "      <td>...</td>\n",
       "      <td>...</td>\n",
       "    </tr>\n",
       "    <tr>\n",
       "      <th>2022-09-17 23:35:31</th>\n",
       "      <td>-3.706224</td>\n",
       "      <td>7.556100</td>\n",
       "      <td>-4.845864</td>\n",
       "    </tr>\n",
       "    <tr>\n",
       "      <th>2022-09-17 23:36:12</th>\n",
       "      <td>-0.296881</td>\n",
       "      <td>0.430956</td>\n",
       "      <td>9.749189</td>\n",
       "    </tr>\n",
       "    <tr>\n",
       "      <th>2022-09-17 23:36:27</th>\n",
       "      <td>-0.785298</td>\n",
       "      <td>0.603339</td>\n",
       "      <td>9.931149</td>\n",
       "    </tr>\n",
       "    <tr>\n",
       "      <th>2022-09-17 23:36:42</th>\n",
       "      <td>0.229843</td>\n",
       "      <td>0.986411</td>\n",
       "      <td>9.854534</td>\n",
       "    </tr>\n",
       "    <tr>\n",
       "      <th>2022-09-17 23:36:57</th>\n",
       "      <td>-0.134075</td>\n",
       "      <td>1.254562</td>\n",
       "      <td>9.758766</td>\n",
       "    </tr>\n",
       "  </tbody>\n",
       "</table>\n",
       "<p>27937 rows × 3 columns</p>\n",
       "</div>"
      ],
      "text/plain": [
       "                      accel_x   accel_y   accel_z\n",
       "Timestamp                                        \n",
       "2022-09-03 23:35:16 -1.838747  3.543418  9.126697\n",
       "2022-09-03 23:35:31  1.110910  1.810017  9.634268\n",
       "2022-09-03 23:35:47  8.829816  0.833182  4.663905\n",
       "2022-09-03 23:36:52 -0.852336 -0.124498  9.787497\n",
       "2022-09-03 23:37:44 -0.900220 -0.095768  9.835381\n",
       "...                       ...       ...       ...\n",
       "2022-09-17 23:35:31 -3.706224  7.556100 -4.845864\n",
       "2022-09-17 23:36:12 -0.296881  0.430956  9.749189\n",
       "2022-09-17 23:36:27 -0.785298  0.603339  9.931149\n",
       "2022-09-17 23:36:42  0.229843  0.986411  9.854534\n",
       "2022-09-17 23:36:57 -0.134075  1.254562  9.758766\n",
       "\n",
       "[27937 rows x 3 columns]"
      ]
     },
     "execution_count": 24,
     "metadata": {},
     "output_type": "execute_result"
    }
   ],
   "source": [
    "# Prepare the features (acceleration values)\n",
    "X = acc[['accel_x', 'accel_y', 'accel_z']]\n",
    "X"
   ]
  },
  {
   "cell_type": "code",
   "execution_count": 25,
   "id": "f2f68101",
   "metadata": {
    "execution": {
     "iopub.execute_input": "2023-06-12T14:44:09.648066Z",
     "iopub.status.busy": "2023-06-12T14:44:09.647679Z",
     "iopub.status.idle": "2023-06-12T14:44:10.719248Z",
     "shell.execute_reply": "2023-06-12T14:44:10.718049Z"
    },
    "papermill": {
     "duration": 1.091842,
     "end_time": "2023-06-12T14:44:10.721778",
     "exception": false,
     "start_time": "2023-06-12T14:44:09.629936",
     "status": "completed"
    },
    "tags": []
   },
   "outputs": [
    {
     "name": "stderr",
     "output_type": "stream",
     "text": [
      "/opt/conda/lib/python3.10/site-packages/sklearn/base.py:439: UserWarning: X does not have valid feature names, but IsolationForest was fitted with feature names\n",
      "  warnings.warn(\n"
     ]
    },
    {
     "data": {
      "text/html": [
       "<style>#sk-container-id-3 {color: black;background-color: white;}#sk-container-id-3 pre{padding: 0;}#sk-container-id-3 div.sk-toggleable {background-color: white;}#sk-container-id-3 label.sk-toggleable__label {cursor: pointer;display: block;width: 100%;margin-bottom: 0;padding: 0.3em;box-sizing: border-box;text-align: center;}#sk-container-id-3 label.sk-toggleable__label-arrow:before {content: \"▸\";float: left;margin-right: 0.25em;color: #696969;}#sk-container-id-3 label.sk-toggleable__label-arrow:hover:before {color: black;}#sk-container-id-3 div.sk-estimator:hover label.sk-toggleable__label-arrow:before {color: black;}#sk-container-id-3 div.sk-toggleable__content {max-height: 0;max-width: 0;overflow: hidden;text-align: left;background-color: #f0f8ff;}#sk-container-id-3 div.sk-toggleable__content pre {margin: 0.2em;color: black;border-radius: 0.25em;background-color: #f0f8ff;}#sk-container-id-3 input.sk-toggleable__control:checked~div.sk-toggleable__content {max-height: 200px;max-width: 100%;overflow: auto;}#sk-container-id-3 input.sk-toggleable__control:checked~label.sk-toggleable__label-arrow:before {content: \"▾\";}#sk-container-id-3 div.sk-estimator input.sk-toggleable__control:checked~label.sk-toggleable__label {background-color: #d4ebff;}#sk-container-id-3 div.sk-label input.sk-toggleable__control:checked~label.sk-toggleable__label {background-color: #d4ebff;}#sk-container-id-3 input.sk-hidden--visually {border: 0;clip: rect(1px 1px 1px 1px);clip: rect(1px, 1px, 1px, 1px);height: 1px;margin: -1px;overflow: hidden;padding: 0;position: absolute;width: 1px;}#sk-container-id-3 div.sk-estimator {font-family: monospace;background-color: #f0f8ff;border: 1px dotted black;border-radius: 0.25em;box-sizing: border-box;margin-bottom: 0.5em;}#sk-container-id-3 div.sk-estimator:hover {background-color: #d4ebff;}#sk-container-id-3 div.sk-parallel-item::after {content: \"\";width: 100%;border-bottom: 1px solid gray;flex-grow: 1;}#sk-container-id-3 div.sk-label:hover label.sk-toggleable__label {background-color: #d4ebff;}#sk-container-id-3 div.sk-serial::before {content: \"\";position: absolute;border-left: 1px solid gray;box-sizing: border-box;top: 0;bottom: 0;left: 50%;z-index: 0;}#sk-container-id-3 div.sk-serial {display: flex;flex-direction: column;align-items: center;background-color: white;padding-right: 0.2em;padding-left: 0.2em;position: relative;}#sk-container-id-3 div.sk-item {position: relative;z-index: 1;}#sk-container-id-3 div.sk-parallel {display: flex;align-items: stretch;justify-content: center;background-color: white;position: relative;}#sk-container-id-3 div.sk-item::before, #sk-container-id-3 div.sk-parallel-item::before {content: \"\";position: absolute;border-left: 1px solid gray;box-sizing: border-box;top: 0;bottom: 0;left: 50%;z-index: -1;}#sk-container-id-3 div.sk-parallel-item {display: flex;flex-direction: column;z-index: 1;position: relative;background-color: white;}#sk-container-id-3 div.sk-parallel-item:first-child::after {align-self: flex-end;width: 50%;}#sk-container-id-3 div.sk-parallel-item:last-child::after {align-self: flex-start;width: 50%;}#sk-container-id-3 div.sk-parallel-item:only-child::after {width: 0;}#sk-container-id-3 div.sk-dashed-wrapped {border: 1px dashed gray;margin: 0 0.4em 0.5em 0.4em;box-sizing: border-box;padding-bottom: 0.4em;background-color: white;}#sk-container-id-3 div.sk-label label {font-family: monospace;font-weight: bold;display: inline-block;line-height: 1.2em;}#sk-container-id-3 div.sk-label-container {text-align: center;}#sk-container-id-3 div.sk-container {/* jupyter's `normalize.less` sets `[hidden] { display: none; }` but bootstrap.min.css set `[hidden] { display: none !important; }` so we also need the `!important` here to be able to override the default hidden behavior on the sphinx rendered scikit-learn.org. See: https://github.com/scikit-learn/scikit-learn/issues/21755 */display: inline-block !important;position: relative;}#sk-container-id-3 div.sk-text-repr-fallback {display: none;}</style><div id=\"sk-container-id-3\" class=\"sk-top-container\"><div class=\"sk-text-repr-fallback\"><pre>IsolationForest(contamination=0.05)</pre><b>In a Jupyter environment, please rerun this cell to show the HTML representation or trust the notebook. <br />On GitHub, the HTML representation is unable to render, please try loading this page with nbviewer.org.</b></div><div class=\"sk-container\" hidden><div class=\"sk-item\"><div class=\"sk-estimator sk-toggleable\"><input class=\"sk-toggleable__control sk-hidden--visually\" id=\"sk-estimator-id-3\" type=\"checkbox\" checked><label for=\"sk-estimator-id-3\" class=\"sk-toggleable__label sk-toggleable__label-arrow\">IsolationForest</label><div class=\"sk-toggleable__content\"><pre>IsolationForest(contamination=0.05)</pre></div></div></div></div></div>"
      ],
      "text/plain": [
       "IsolationForest(contamination=0.05)"
      ]
     },
     "execution_count": 25,
     "metadata": {},
     "output_type": "execute_result"
    }
   ],
   "source": [
    "# Fit the Isolation Forest model\n",
    "model = IsolationForest(contamination=0.05)  # Adjust contamination based on expected anomaly rate\n",
    "model.fit(X)"
   ]
  },
  {
   "cell_type": "code",
   "execution_count": 26,
   "id": "c9d13282",
   "metadata": {
    "execution": {
     "iopub.execute_input": "2023-06-12T14:44:10.756055Z",
     "iopub.status.busy": "2023-06-12T14:44:10.755294Z",
     "iopub.status.idle": "2023-06-12T14:44:11.443931Z",
     "shell.execute_reply": "2023-06-12T14:44:11.442655Z"
    },
    "papermill": {
     "duration": 0.708853,
     "end_time": "2023-06-12T14:44:11.446577",
     "exception": false,
     "start_time": "2023-06-12T14:44:10.737724",
     "status": "completed"
    },
    "tags": []
   },
   "outputs": [
    {
     "data": {
      "text/plain": [
       "Timestamp\n",
       "2022-09-03 23:35:16    1\n",
       "2022-09-03 23:35:31    1\n",
       "2022-09-03 23:35:47    1\n",
       "2022-09-03 23:36:52    1\n",
       "2022-09-03 23:37:44    1\n",
       "                      ..\n",
       "2022-09-17 23:35:31    1\n",
       "2022-09-17 23:36:12    1\n",
       "2022-09-17 23:36:27    1\n",
       "2022-09-17 23:36:42    1\n",
       "2022-09-17 23:36:57    1\n",
       "Name: anomaly_label, Length: 27937, dtype: int64"
      ]
     },
     "execution_count": 26,
     "metadata": {},
     "output_type": "execute_result"
    }
   ],
   "source": [
    "# Predict the anomalies\n",
    "anomaly_labels = model.predict(X)\n",
    "acc['anomaly_label'] = anomaly_labels\n",
    "acc['anomaly_label'] "
   ]
  },
  {
   "cell_type": "code",
   "execution_count": 27,
   "id": "bb1abd19",
   "metadata": {
    "execution": {
     "iopub.execute_input": "2023-06-12T14:44:11.481577Z",
     "iopub.status.busy": "2023-06-12T14:44:11.480766Z",
     "iopub.status.idle": "2023-06-12T14:44:11.496160Z",
     "shell.execute_reply": "2023-06-12T14:44:11.494810Z"
    },
    "papermill": {
     "duration": 0.035821,
     "end_time": "2023-06-12T14:44:11.498655",
     "exception": false,
     "start_time": "2023-06-12T14:44:11.462834",
     "status": "completed"
    },
    "tags": []
   },
   "outputs": [
    {
     "name": "stdout",
     "output_type": "stream",
     "text": [
      "                           Date      Time   accel_x   accel_y   accel_z  \\\n",
      "Timestamp                                                                 \n",
      "2022-09-04 03:13:42  2022-09-04  03:13:42 -8.465898 -3.055001  0.411803   \n",
      "2022-09-04 03:14:14  2022-09-04  03:14:14 -8.810662 -1.810017  3.122039   \n",
      "2022-09-04 03:14:29  2022-09-04  03:14:29 -8.973468 -1.436521  2.815581   \n",
      "2022-09-04 03:14:44  2022-09-04  03:14:44 -8.054094 -1.953669  4.903325   \n",
      "2022-09-04 03:14:59  2022-09-04  03:14:59 -8.848969 -2.030283  2.748544   \n",
      "...                         ...       ...       ...       ...       ...   \n",
      "2022-09-17 23:31:30  2022-09-17  23:31:30 -7.211336  1.369483 -6.119579   \n",
      "2022-09-17 23:31:45  2022-09-17  23:31:45 -7.527370  0.919373 -5.535394   \n",
      "2022-09-17 23:32:01  2022-09-17  23:32:01 -8.303091  0.067038 -4.568137   \n",
      "2022-09-17 23:32:16  2022-09-17  23:32:16 -8.341399  0.172383 -4.424485   \n",
      "2022-09-17 23:32:45  2022-09-17  23:32:45 -8.312668  0.383072 -4.434062   \n",
      "\n",
      "                     accel_magnitude           Timestamp  anomaly_label  \n",
      "Timestamp                                                                \n",
      "2022-09-04 03:13:42         9.009663 2023-06-12 03:13:42             -1  \n",
      "2022-09-04 03:14:14         9.521085 2023-06-12 03:14:14             -1  \n",
      "2022-09-04 03:14:29         9.513896 2023-06-12 03:14:29             -1  \n",
      "2022-09-04 03:14:44         9.629530 2023-06-12 03:14:44             -1  \n",
      "2022-09-04 03:14:59         9.485821 2023-06-12 03:14:59             -1  \n",
      "...                              ...                 ...            ...  \n",
      "2022-09-17 23:31:30         9.556574 2023-06-12 23:31:30             -1  \n",
      "2022-09-17 23:31:45         9.388671 2023-06-12 23:31:45             -1  \n",
      "2022-09-17 23:32:01         9.477008 2023-06-12 23:32:01             -1  \n",
      "2022-09-17 23:32:16         9.443766 2023-06-12 23:32:16             -1  \n",
      "2022-09-17 23:32:45         9.429109 2023-06-12 23:32:45             -1  \n",
      "\n",
      "[1397 rows x 8 columns]\n"
     ]
    }
   ],
   "source": [
    "# Display the anomalies\n",
    "anomalies = acc[acc['anomaly_label'] == -1]\n",
    "print(anomalies)"
   ]
  },
  {
   "cell_type": "markdown",
   "id": "aa3990cc",
   "metadata": {
    "papermill": {
     "duration": 0.015873,
     "end_time": "2023-06-12T14:44:11.530854",
     "exception": false,
     "start_time": "2023-06-12T14:44:11.514981",
     "status": "completed"
    },
    "tags": []
   },
   "source": [
    "correlation matrix:"
   ]
  },
  {
   "cell_type": "code",
   "execution_count": 28,
   "id": "6187c4fa",
   "metadata": {
    "execution": {
     "iopub.execute_input": "2023-06-12T14:44:11.565508Z",
     "iopub.status.busy": "2023-06-12T14:44:11.564933Z",
     "iopub.status.idle": "2023-06-12T14:44:11.578159Z",
     "shell.execute_reply": "2023-06-12T14:44:11.576778Z"
    },
    "papermill": {
     "duration": 0.033717,
     "end_time": "2023-06-12T14:44:11.580801",
     "exception": false,
     "start_time": "2023-06-12T14:44:11.547084",
     "status": "completed"
    },
    "tags": []
   },
   "outputs": [
    {
     "name": "stdout",
     "output_type": "stream",
     "text": [
      "          accel_x   accel_y   accel_z\n",
      "accel_x  1.000000 -0.100474 -0.047083\n",
      "accel_y -0.100474  1.000000  0.111472\n",
      "accel_z -0.047083  0.111472  1.000000\n"
     ]
    }
   ],
   "source": [
    "# Calculate the correlation matrix\n",
    "correlation_matrix = acc[['accel_x', 'accel_y', 'accel_z']].corr()\n",
    "\n",
    "\n",
    "print(correlation_matrix)"
   ]
  },
  {
   "cell_type": "code",
   "execution_count": null,
   "id": "9bea9e4c",
   "metadata": {
    "papermill": {
     "duration": 0.016473,
     "end_time": "2023-06-12T14:44:11.614204",
     "exception": false,
     "start_time": "2023-06-12T14:44:11.597731",
     "status": "completed"
    },
    "tags": []
   },
   "outputs": [],
   "source": []
  }
 ],
 "metadata": {
  "kernelspec": {
   "display_name": "Python 3",
   "language": "python",
   "name": "python3"
  },
  "language_info": {
   "codemirror_mode": {
    "name": "ipython",
    "version": 3
   },
   "file_extension": ".py",
   "mimetype": "text/x-python",
   "name": "python",
   "nbconvert_exporter": "python",
   "pygments_lexer": "ipython3",
   "version": "3.10.10"
  },
  "papermill": {
   "default_parameters": {},
   "duration": 111.04177,
   "end_time": "2023-06-12T14:44:13.157776",
   "environment_variables": {},
   "exception": null,
   "input_path": "__notebook__.ipynb",
   "output_path": "__notebook__.ipynb",
   "parameters": {},
   "start_time": "2023-06-12T14:42:22.116006",
   "version": "2.4.0"
  }
 },
 "nbformat": 4,
 "nbformat_minor": 5
}
