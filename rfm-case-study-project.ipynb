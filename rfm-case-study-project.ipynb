{
 "cells": [
  {
   "cell_type": "code",
   "execution_count": 1,
   "id": "c26e45b4",
   "metadata": {
    "_cell_guid": "b1076dfc-b9ad-4769-8c92-a6c4dae69d19",
    "_uuid": "8f2839f25d086af736a60e9eeb907d3b93b6e0e5",
    "execution": {
     "iopub.execute_input": "2023-06-13T04:46:47.304482Z",
     "iopub.status.busy": "2023-06-13T04:46:47.303833Z",
     "iopub.status.idle": "2023-06-13T04:46:47.323644Z",
     "shell.execute_reply": "2023-06-13T04:46:47.322821Z"
    },
    "papermill": {
     "duration": 0.032165,
     "end_time": "2023-06-13T04:46:47.326177",
     "exception": false,
     "start_time": "2023-06-13T04:46:47.294012",
     "status": "completed"
    },
    "tags": []
   },
   "outputs": [
    {
     "name": "stdout",
     "output_type": "stream",
     "text": [
      "/kaggle/input/recency-frequency-monetary-value/rfm_data.csv\n"
     ]
    }
   ],
   "source": [
    "# This Python 3 environment comes with many helpful analytics libraries installed\n",
    "# It is defined by the kaggle/python Docker image: https://github.com/kaggle/docker-python\n",
    "# For example, here's several helpful packages to load\n",
    "\n",
    "import numpy as np # linear algebra\n",
    "import pandas as pd # data processing, CSV file I/O (e.g. pd.read_csv)\n",
    "import matplotlib.pyplot as plt\n",
    "from datetime import datetime\n",
    "# Input data files are available in the read-only \"../input/\" directory\n",
    "# For example, running this (by clicking run or pressing Shift+Enter) will list all files under the input directory\n",
    "\n",
    "import os\n",
    "for dirname, _, filenames in os.walk('/kaggle/input'):\n",
    "    for filename in filenames:\n",
    "        print(os.path.join(dirname, filename))\n",
    "\n",
    "# You can write up to 20GB to the current directory (/kaggle/working/) that gets preserved as output when you create a version using \"Save & Run All\" \n",
    "# You can also write temporary files to /kaggle/temp/, but they won't be saved outside of the current session"
   ]
  },
  {
   "cell_type": "code",
   "execution_count": 2,
   "id": "d4e503da",
   "metadata": {
    "execution": {
     "iopub.execute_input": "2023-06-13T04:46:47.343619Z",
     "iopub.status.busy": "2023-06-13T04:46:47.342895Z",
     "iopub.status.idle": "2023-06-13T04:46:47.408549Z",
     "shell.execute_reply": "2023-06-13T04:46:47.407130Z"
    },
    "papermill": {
     "duration": 0.077131,
     "end_time": "2023-06-13T04:46:47.411095",
     "exception": false,
     "start_time": "2023-06-13T04:46:47.333964",
     "status": "completed"
    },
    "tags": []
   },
   "outputs": [
    {
     "data": {
      "text/html": [
       "<div>\n",
       "<style scoped>\n",
       "    .dataframe tbody tr th:only-of-type {\n",
       "        vertical-align: middle;\n",
       "    }\n",
       "\n",
       "    .dataframe tbody tr th {\n",
       "        vertical-align: top;\n",
       "    }\n",
       "\n",
       "    .dataframe thead th {\n",
       "        text-align: right;\n",
       "    }\n",
       "</style>\n",
       "<table border=\"1\" class=\"dataframe\">\n",
       "  <thead>\n",
       "    <tr style=\"text-align: right;\">\n",
       "      <th></th>\n",
       "      <th>CustomerID</th>\n",
       "      <th>PurchaseDate</th>\n",
       "      <th>TransactionAmount</th>\n",
       "      <th>ProductInformation</th>\n",
       "      <th>OrderID</th>\n",
       "      <th>Location</th>\n",
       "    </tr>\n",
       "  </thead>\n",
       "  <tbody>\n",
       "    <tr>\n",
       "      <th>0</th>\n",
       "      <td>8814</td>\n",
       "      <td>2023-04-11</td>\n",
       "      <td>943.31</td>\n",
       "      <td>Product C</td>\n",
       "      <td>890075</td>\n",
       "      <td>Tokyo</td>\n",
       "    </tr>\n",
       "    <tr>\n",
       "      <th>1</th>\n",
       "      <td>2188</td>\n",
       "      <td>2023-04-11</td>\n",
       "      <td>463.70</td>\n",
       "      <td>Product A</td>\n",
       "      <td>176819</td>\n",
       "      <td>London</td>\n",
       "    </tr>\n",
       "    <tr>\n",
       "      <th>2</th>\n",
       "      <td>4608</td>\n",
       "      <td>2023-04-11</td>\n",
       "      <td>80.28</td>\n",
       "      <td>Product A</td>\n",
       "      <td>340062</td>\n",
       "      <td>New York</td>\n",
       "    </tr>\n",
       "    <tr>\n",
       "      <th>3</th>\n",
       "      <td>2559</td>\n",
       "      <td>2023-04-11</td>\n",
       "      <td>221.29</td>\n",
       "      <td>Product A</td>\n",
       "      <td>239145</td>\n",
       "      <td>London</td>\n",
       "    </tr>\n",
       "    <tr>\n",
       "      <th>4</th>\n",
       "      <td>9482</td>\n",
       "      <td>2023-04-11</td>\n",
       "      <td>739.56</td>\n",
       "      <td>Product A</td>\n",
       "      <td>194545</td>\n",
       "      <td>Paris</td>\n",
       "    </tr>\n",
       "    <tr>\n",
       "      <th>...</th>\n",
       "      <td>...</td>\n",
       "      <td>...</td>\n",
       "      <td>...</td>\n",
       "      <td>...</td>\n",
       "      <td>...</td>\n",
       "      <td>...</td>\n",
       "    </tr>\n",
       "    <tr>\n",
       "      <th>995</th>\n",
       "      <td>2970</td>\n",
       "      <td>2023-06-10</td>\n",
       "      <td>759.62</td>\n",
       "      <td>Product B</td>\n",
       "      <td>275284</td>\n",
       "      <td>London</td>\n",
       "    </tr>\n",
       "    <tr>\n",
       "      <th>996</th>\n",
       "      <td>6669</td>\n",
       "      <td>2023-06-10</td>\n",
       "      <td>941.50</td>\n",
       "      <td>Product C</td>\n",
       "      <td>987025</td>\n",
       "      <td>New York</td>\n",
       "    </tr>\n",
       "    <tr>\n",
       "      <th>997</th>\n",
       "      <td>8836</td>\n",
       "      <td>2023-06-10</td>\n",
       "      <td>545.36</td>\n",
       "      <td>Product C</td>\n",
       "      <td>512842</td>\n",
       "      <td>London</td>\n",
       "    </tr>\n",
       "    <tr>\n",
       "      <th>998</th>\n",
       "      <td>1440</td>\n",
       "      <td>2023-06-10</td>\n",
       "      <td>729.94</td>\n",
       "      <td>Product B</td>\n",
       "      <td>559753</td>\n",
       "      <td>Paris</td>\n",
       "    </tr>\n",
       "    <tr>\n",
       "      <th>999</th>\n",
       "      <td>4759</td>\n",
       "      <td>2023-06-10</td>\n",
       "      <td>804.28</td>\n",
       "      <td>Product D</td>\n",
       "      <td>467544</td>\n",
       "      <td>New York</td>\n",
       "    </tr>\n",
       "  </tbody>\n",
       "</table>\n",
       "<p>1000 rows × 6 columns</p>\n",
       "</div>"
      ],
      "text/plain": [
       "     CustomerID PurchaseDate  TransactionAmount ProductInformation  OrderID  \\\n",
       "0          8814   2023-04-11             943.31          Product C   890075   \n",
       "1          2188   2023-04-11             463.70          Product A   176819   \n",
       "2          4608   2023-04-11              80.28          Product A   340062   \n",
       "3          2559   2023-04-11             221.29          Product A   239145   \n",
       "4          9482   2023-04-11             739.56          Product A   194545   \n",
       "..          ...          ...                ...                ...      ...   \n",
       "995        2970   2023-06-10             759.62          Product B   275284   \n",
       "996        6669   2023-06-10             941.50          Product C   987025   \n",
       "997        8836   2023-06-10             545.36          Product C   512842   \n",
       "998        1440   2023-06-10             729.94          Product B   559753   \n",
       "999        4759   2023-06-10             804.28          Product D   467544   \n",
       "\n",
       "     Location  \n",
       "0       Tokyo  \n",
       "1      London  \n",
       "2    New York  \n",
       "3      London  \n",
       "4       Paris  \n",
       "..        ...  \n",
       "995    London  \n",
       "996  New York  \n",
       "997    London  \n",
       "998     Paris  \n",
       "999  New York  \n",
       "\n",
       "[1000 rows x 6 columns]"
      ]
     },
     "execution_count": 2,
     "metadata": {},
     "output_type": "execute_result"
    }
   ],
   "source": [
    "rfm=pd.read_csv(r\"/kaggle/input/recency-frequency-monetary-value/rfm_data.csv\")\n",
    "rfm"
   ]
  },
  {
   "cell_type": "code",
   "execution_count": 3,
   "id": "acac3cc7",
   "metadata": {
    "execution": {
     "iopub.execute_input": "2023-06-13T04:46:47.428677Z",
     "iopub.status.busy": "2023-06-13T04:46:47.428229Z",
     "iopub.status.idle": "2023-06-13T04:46:47.441633Z",
     "shell.execute_reply": "2023-06-13T04:46:47.440377Z"
    },
    "papermill": {
     "duration": 0.025146,
     "end_time": "2023-06-13T04:46:47.444169",
     "exception": false,
     "start_time": "2023-06-13T04:46:47.419023",
     "status": "completed"
    },
    "tags": []
   },
   "outputs": [
    {
     "data": {
      "text/html": [
       "<div>\n",
       "<style scoped>\n",
       "    .dataframe tbody tr th:only-of-type {\n",
       "        vertical-align: middle;\n",
       "    }\n",
       "\n",
       "    .dataframe tbody tr th {\n",
       "        vertical-align: top;\n",
       "    }\n",
       "\n",
       "    .dataframe thead th {\n",
       "        text-align: right;\n",
       "    }\n",
       "</style>\n",
       "<table border=\"1\" class=\"dataframe\">\n",
       "  <thead>\n",
       "    <tr style=\"text-align: right;\">\n",
       "      <th></th>\n",
       "      <th>CustomerID</th>\n",
       "      <th>PurchaseDate</th>\n",
       "      <th>TransactionAmount</th>\n",
       "      <th>ProductInformation</th>\n",
       "      <th>OrderID</th>\n",
       "      <th>Location</th>\n",
       "    </tr>\n",
       "  </thead>\n",
       "  <tbody>\n",
       "    <tr>\n",
       "      <th>0</th>\n",
       "      <td>8814</td>\n",
       "      <td>2023-04-11</td>\n",
       "      <td>943.31</td>\n",
       "      <td>Product C</td>\n",
       "      <td>890075</td>\n",
       "      <td>Tokyo</td>\n",
       "    </tr>\n",
       "    <tr>\n",
       "      <th>1</th>\n",
       "      <td>2188</td>\n",
       "      <td>2023-04-11</td>\n",
       "      <td>463.70</td>\n",
       "      <td>Product A</td>\n",
       "      <td>176819</td>\n",
       "      <td>London</td>\n",
       "    </tr>\n",
       "    <tr>\n",
       "      <th>2</th>\n",
       "      <td>4608</td>\n",
       "      <td>2023-04-11</td>\n",
       "      <td>80.28</td>\n",
       "      <td>Product A</td>\n",
       "      <td>340062</td>\n",
       "      <td>New York</td>\n",
       "    </tr>\n",
       "    <tr>\n",
       "      <th>3</th>\n",
       "      <td>2559</td>\n",
       "      <td>2023-04-11</td>\n",
       "      <td>221.29</td>\n",
       "      <td>Product A</td>\n",
       "      <td>239145</td>\n",
       "      <td>London</td>\n",
       "    </tr>\n",
       "    <tr>\n",
       "      <th>4</th>\n",
       "      <td>9482</td>\n",
       "      <td>2023-04-11</td>\n",
       "      <td>739.56</td>\n",
       "      <td>Product A</td>\n",
       "      <td>194545</td>\n",
       "      <td>Paris</td>\n",
       "    </tr>\n",
       "    <tr>\n",
       "      <th>5</th>\n",
       "      <td>8483</td>\n",
       "      <td>2023-04-11</td>\n",
       "      <td>375.23</td>\n",
       "      <td>Product C</td>\n",
       "      <td>691194</td>\n",
       "      <td>Paris</td>\n",
       "    </tr>\n",
       "  </tbody>\n",
       "</table>\n",
       "</div>"
      ],
      "text/plain": [
       "   CustomerID PurchaseDate  TransactionAmount ProductInformation  OrderID  \\\n",
       "0        8814   2023-04-11             943.31          Product C   890075   \n",
       "1        2188   2023-04-11             463.70          Product A   176819   \n",
       "2        4608   2023-04-11              80.28          Product A   340062   \n",
       "3        2559   2023-04-11             221.29          Product A   239145   \n",
       "4        9482   2023-04-11             739.56          Product A   194545   \n",
       "5        8483   2023-04-11             375.23          Product C   691194   \n",
       "\n",
       "   Location  \n",
       "0     Tokyo  \n",
       "1    London  \n",
       "2  New York  \n",
       "3    London  \n",
       "4     Paris  \n",
       "5     Paris  "
      ]
     },
     "execution_count": 3,
     "metadata": {},
     "output_type": "execute_result"
    }
   ],
   "source": [
    "rfm.head(6)"
   ]
  },
  {
   "cell_type": "markdown",
   "id": "35551a89",
   "metadata": {
    "papermill": {
     "duration": 0.007986,
     "end_time": "2023-06-13T04:46:47.460635",
     "exception": false,
     "start_time": "2023-06-13T04:46:47.452649",
     "status": "completed"
    },
    "tags": []
   },
   "source": [
    "# Step 1: Data Preparation"
   ]
  },
  {
   "cell_type": "code",
   "execution_count": 4,
   "id": "4691beea",
   "metadata": {
    "execution": {
     "iopub.execute_input": "2023-06-13T04:46:47.480448Z",
     "iopub.status.busy": "2023-06-13T04:46:47.480068Z",
     "iopub.status.idle": "2023-06-13T04:46:47.496571Z",
     "shell.execute_reply": "2023-06-13T04:46:47.495383Z"
    },
    "papermill": {
     "duration": 0.030769,
     "end_time": "2023-06-13T04:46:47.499700",
     "exception": false,
     "start_time": "2023-06-13T04:46:47.468931",
     "status": "completed"
    },
    "tags": []
   },
   "outputs": [],
   "source": [
    "rfm = rfm.drop_duplicates()"
   ]
  },
  {
   "cell_type": "code",
   "execution_count": 5,
   "id": "49af9131",
   "metadata": {
    "execution": {
     "iopub.execute_input": "2023-06-13T04:46:47.519413Z",
     "iopub.status.busy": "2023-06-13T04:46:47.518999Z",
     "iopub.status.idle": "2023-06-13T04:46:47.533661Z",
     "shell.execute_reply": "2023-06-13T04:46:47.532486Z"
    },
    "papermill": {
     "duration": 0.027661,
     "end_time": "2023-06-13T04:46:47.536108",
     "exception": false,
     "start_time": "2023-06-13T04:46:47.508447",
     "status": "completed"
    },
    "tags": []
   },
   "outputs": [
    {
     "data": {
      "text/html": [
       "<div>\n",
       "<style scoped>\n",
       "    .dataframe tbody tr th:only-of-type {\n",
       "        vertical-align: middle;\n",
       "    }\n",
       "\n",
       "    .dataframe tbody tr th {\n",
       "        vertical-align: top;\n",
       "    }\n",
       "\n",
       "    .dataframe thead th {\n",
       "        text-align: right;\n",
       "    }\n",
       "</style>\n",
       "<table border=\"1\" class=\"dataframe\">\n",
       "  <thead>\n",
       "    <tr style=\"text-align: right;\">\n",
       "      <th></th>\n",
       "      <th>CustomerID</th>\n",
       "      <th>PurchaseDate</th>\n",
       "      <th>TransactionAmount</th>\n",
       "      <th>ProductInformation</th>\n",
       "      <th>OrderID</th>\n",
       "      <th>Location</th>\n",
       "    </tr>\n",
       "  </thead>\n",
       "  <tbody>\n",
       "    <tr>\n",
       "      <th>0</th>\n",
       "      <td>8814</td>\n",
       "      <td>2023-04-11</td>\n",
       "      <td>943.31</td>\n",
       "      <td>Product C</td>\n",
       "      <td>890075</td>\n",
       "      <td>Tokyo</td>\n",
       "    </tr>\n",
       "    <tr>\n",
       "      <th>1</th>\n",
       "      <td>2188</td>\n",
       "      <td>2023-04-11</td>\n",
       "      <td>463.70</td>\n",
       "      <td>Product A</td>\n",
       "      <td>176819</td>\n",
       "      <td>London</td>\n",
       "    </tr>\n",
       "    <tr>\n",
       "      <th>2</th>\n",
       "      <td>4608</td>\n",
       "      <td>2023-04-11</td>\n",
       "      <td>80.28</td>\n",
       "      <td>Product A</td>\n",
       "      <td>340062</td>\n",
       "      <td>New York</td>\n",
       "    </tr>\n",
       "    <tr>\n",
       "      <th>3</th>\n",
       "      <td>2559</td>\n",
       "      <td>2023-04-11</td>\n",
       "      <td>221.29</td>\n",
       "      <td>Product A</td>\n",
       "      <td>239145</td>\n",
       "      <td>London</td>\n",
       "    </tr>\n",
       "    <tr>\n",
       "      <th>4</th>\n",
       "      <td>9482</td>\n",
       "      <td>2023-04-11</td>\n",
       "      <td>739.56</td>\n",
       "      <td>Product A</td>\n",
       "      <td>194545</td>\n",
       "      <td>Paris</td>\n",
       "    </tr>\n",
       "  </tbody>\n",
       "</table>\n",
       "</div>"
      ],
      "text/plain": [
       "   CustomerID PurchaseDate  TransactionAmount ProductInformation  OrderID  \\\n",
       "0        8814   2023-04-11             943.31          Product C   890075   \n",
       "1        2188   2023-04-11             463.70          Product A   176819   \n",
       "2        4608   2023-04-11              80.28          Product A   340062   \n",
       "3        2559   2023-04-11             221.29          Product A   239145   \n",
       "4        9482   2023-04-11             739.56          Product A   194545   \n",
       "\n",
       "   Location  \n",
       "0     Tokyo  \n",
       "1    London  \n",
       "2  New York  \n",
       "3    London  \n",
       "4     Paris  "
      ]
     },
     "execution_count": 5,
     "metadata": {},
     "output_type": "execute_result"
    }
   ],
   "source": [
    "rfm.head(5)"
   ]
  },
  {
   "cell_type": "code",
   "execution_count": 6,
   "id": "62b0230e",
   "metadata": {
    "execution": {
     "iopub.execute_input": "2023-06-13T04:46:47.555600Z",
     "iopub.status.busy": "2023-06-13T04:46:47.555168Z",
     "iopub.status.idle": "2023-06-13T04:46:47.561989Z",
     "shell.execute_reply": "2023-06-13T04:46:47.560734Z"
    },
    "papermill": {
     "duration": 0.0201,
     "end_time": "2023-06-13T04:46:47.564920",
     "exception": false,
     "start_time": "2023-06-13T04:46:47.544820",
     "status": "completed"
    },
    "tags": []
   },
   "outputs": [],
   "source": [
    "columns_to_drop = [\"ProductInformation\", \"Location\"]\n",
    "rfm = rfm.drop(columns=columns_to_drop)"
   ]
  },
  {
   "cell_type": "code",
   "execution_count": 7,
   "id": "daf44122",
   "metadata": {
    "execution": {
     "iopub.execute_input": "2023-06-13T04:46:47.583830Z",
     "iopub.status.busy": "2023-06-13T04:46:47.583431Z",
     "iopub.status.idle": "2023-06-13T04:46:47.595603Z",
     "shell.execute_reply": "2023-06-13T04:46:47.594431Z"
    },
    "papermill": {
     "duration": 0.02469,
     "end_time": "2023-06-13T04:46:47.598114",
     "exception": false,
     "start_time": "2023-06-13T04:46:47.573424",
     "status": "completed"
    },
    "tags": []
   },
   "outputs": [
    {
     "data": {
      "text/plain": [
       "0     2023-04-11\n",
       "1     2023-04-11\n",
       "2     2023-04-11\n",
       "3     2023-04-11\n",
       "4     2023-04-11\n",
       "         ...    \n",
       "995   2023-06-10\n",
       "996   2023-06-10\n",
       "997   2023-06-10\n",
       "998   2023-06-10\n",
       "999   2023-06-10\n",
       "Name: PurchaseDate, Length: 1000, dtype: datetime64[ns]"
      ]
     },
     "execution_count": 7,
     "metadata": {},
     "output_type": "execute_result"
    }
   ],
   "source": [
    "rfm[\"PurchaseDate\"] = pd.to_datetime(rfm[\"PurchaseDate\"])\n",
    "rfm[\"PurchaseDate\"]"
   ]
  },
  {
   "cell_type": "code",
   "execution_count": 8,
   "id": "3bde48b8",
   "metadata": {
    "execution": {
     "iopub.execute_input": "2023-06-13T04:46:47.617580Z",
     "iopub.status.busy": "2023-06-13T04:46:47.617176Z",
     "iopub.status.idle": "2023-06-13T04:46:47.626776Z",
     "shell.execute_reply": "2023-06-13T04:46:47.625507Z"
    },
    "papermill": {
     "duration": 0.02246,
     "end_time": "2023-06-13T04:46:47.629412",
     "exception": false,
     "start_time": "2023-06-13T04:46:47.606952",
     "status": "completed"
    },
    "tags": []
   },
   "outputs": [
    {
     "name": "stdout",
     "output_type": "stream",
     "text": [
      "   CustomerID PurchaseDate  TransactionAmount  OrderID\n",
      "0        8814   2023-04-11             943.31   890075\n",
      "1        2188   2023-04-11             463.70   176819\n",
      "2        4608   2023-04-11              80.28   340062\n",
      "3        2559   2023-04-11             221.29   239145\n",
      "4        9482   2023-04-11             739.56   194545\n"
     ]
    }
   ],
   "source": [
    "print(rfm.head())"
   ]
  },
  {
   "cell_type": "markdown",
   "id": "89b331f8",
   "metadata": {
    "papermill": {
     "duration": 0.008534,
     "end_time": "2023-06-13T04:46:47.646949",
     "exception": false,
     "start_time": "2023-06-13T04:46:47.638415",
     "status": "completed"
    },
    "tags": []
   },
   "source": [
    "# Step 2: Calculate RFM Metrics"
   ]
  },
  {
   "cell_type": "code",
   "execution_count": 9,
   "id": "3875662b",
   "metadata": {
    "execution": {
     "iopub.execute_input": "2023-06-13T04:46:47.666567Z",
     "iopub.status.busy": "2023-06-13T04:46:47.666044Z",
     "iopub.status.idle": "2023-06-13T04:46:47.685820Z",
     "shell.execute_reply": "2023-06-13T04:46:47.684717Z"
    },
    "papermill": {
     "duration": 0.033172,
     "end_time": "2023-06-13T04:46:47.688923",
     "exception": false,
     "start_time": "2023-06-13T04:46:47.655751",
     "status": "completed"
    },
    "tags": []
   },
   "outputs": [
    {
     "name": "stdout",
     "output_type": "stream",
     "text": [
      "     CustomerID PurchaseDate  TransactionAmount  OrderID  Recency\n",
      "0          8814   2023-04-11             943.31   890075       63\n",
      "1          2188   2023-04-11             463.70   176819       63\n",
      "2          4608   2023-04-11              80.28   340062       63\n",
      "3          2559   2023-04-11             221.29   239145       63\n",
      "4          9482   2023-04-11             739.56   194545       63\n",
      "..          ...          ...                ...      ...      ...\n",
      "995        2970   2023-06-10             759.62   275284        3\n",
      "996        6669   2023-06-10             941.50   987025        3\n",
      "997        8836   2023-06-10             545.36   512842        3\n",
      "998        1440   2023-06-10             729.94   559753        3\n",
      "999        4759   2023-06-10             804.28   467544        3\n",
      "\n",
      "[1000 rows x 5 columns]\n"
     ]
    }
   ],
   "source": [
    "# Calculate Recency (R)\n",
    "current_date = datetime.now()  # Get the current date\n",
    "rfm['PurchaseDate'] = pd.to_datetime(rfm['PurchaseDate'])  # Convert 'PurchaseDate' column to datetime\n",
    "rfm['Recency'] = (current_date - rfm['PurchaseDate']).dt.days\n",
    "\n",
    "\n",
    "print(rfm)"
   ]
  },
  {
   "cell_type": "code",
   "execution_count": 10,
   "id": "65c64595",
   "metadata": {
    "execution": {
     "iopub.execute_input": "2023-06-13T04:46:47.709148Z",
     "iopub.status.busy": "2023-06-13T04:46:47.708764Z",
     "iopub.status.idle": "2023-06-13T04:46:47.725723Z",
     "shell.execute_reply": "2023-06-13T04:46:47.724584Z"
    },
    "papermill": {
     "duration": 0.030794,
     "end_time": "2023-06-13T04:46:47.728717",
     "exception": false,
     "start_time": "2023-06-13T04:46:47.697923",
     "status": "completed"
    },
    "tags": []
   },
   "outputs": [],
   "source": [
    "# Calculate Frequency (F)\n",
    "rfm_frequency = rfm.groupby('CustomerID')['PurchaseDate'].count().reset_index()\n",
    "rfm_frequency.columns = ['CustomerID', 'Frequency']\n",
    "rfm = rfm.merge(rfm_frequency, on='CustomerID', how='left')"
   ]
  },
  {
   "cell_type": "code",
   "execution_count": 11,
   "id": "b0b6bc87",
   "metadata": {
    "execution": {
     "iopub.execute_input": "2023-06-13T04:46:47.749332Z",
     "iopub.status.busy": "2023-06-13T04:46:47.748939Z",
     "iopub.status.idle": "2023-06-13T04:46:47.759480Z",
     "shell.execute_reply": "2023-06-13T04:46:47.758230Z"
    },
    "papermill": {
     "duration": 0.024123,
     "end_time": "2023-06-13T04:46:47.761953",
     "exception": false,
     "start_time": "2023-06-13T04:46:47.737830",
     "status": "completed"
    },
    "tags": []
   },
   "outputs": [
    {
     "name": "stdout",
     "output_type": "stream",
     "text": [
      "     CustomerID PurchaseDate  TransactionAmount  OrderID  Recency  Frequency\n",
      "0          8814   2023-04-11             943.31   890075       63          1\n",
      "1          2188   2023-04-11             463.70   176819       63          1\n",
      "2          4608   2023-04-11              80.28   340062       63          1\n",
      "3          2559   2023-04-11             221.29   239145       63          1\n",
      "4          9482   2023-04-11             739.56   194545       63          1\n",
      "..          ...          ...                ...      ...      ...        ...\n",
      "995        2970   2023-06-10             759.62   275284        3          1\n",
      "996        6669   2023-06-10             941.50   987025        3          1\n",
      "997        8836   2023-06-10             545.36   512842        3          1\n",
      "998        1440   2023-06-10             729.94   559753        3          1\n",
      "999        4759   2023-06-10             804.28   467544        3          1\n",
      "\n",
      "[1000 rows x 6 columns]\n"
     ]
    }
   ],
   "source": [
    "print(rfm)"
   ]
  },
  {
   "cell_type": "code",
   "execution_count": 12,
   "id": "5b625bc5",
   "metadata": {
    "execution": {
     "iopub.execute_input": "2023-06-13T04:46:47.782319Z",
     "iopub.status.busy": "2023-06-13T04:46:47.781905Z",
     "iopub.status.idle": "2023-06-13T04:46:47.804350Z",
     "shell.execute_reply": "2023-06-13T04:46:47.802681Z"
    },
    "papermill": {
     "duration": 0.035416,
     "end_time": "2023-06-13T04:46:47.806567",
     "exception": false,
     "start_time": "2023-06-13T04:46:47.771151",
     "status": "completed"
    },
    "tags": []
   },
   "outputs": [
    {
     "name": "stdout",
     "output_type": "stream",
     "text": [
      "     CustomerID PurchaseDate  TransactionAmount  OrderID  Recency  Frequency  \\\n",
      "0          8814   2023-04-11             943.31   890075       63          1   \n",
      "1          2188   2023-04-11             463.70   176819       63          1   \n",
      "2          4608   2023-04-11              80.28   340062       63          1   \n",
      "3          2559   2023-04-11             221.29   239145       63          1   \n",
      "4          9482   2023-04-11             739.56   194545       63          1   \n",
      "..          ...          ...                ...      ...      ...        ...   \n",
      "995        2970   2023-06-10             759.62   275284        3          1   \n",
      "996        6669   2023-06-10             941.50   987025        3          1   \n",
      "997        8836   2023-06-10             545.36   512842        3          1   \n",
      "998        1440   2023-06-10             729.94   559753        3          1   \n",
      "999        4759   2023-06-10             804.28   467544        3          1   \n",
      "\n",
      "     MonetaryValue  \n",
      "0           943.31  \n",
      "1           463.70  \n",
      "2            80.28  \n",
      "3           221.29  \n",
      "4           739.56  \n",
      "..             ...  \n",
      "995         759.62  \n",
      "996         941.50  \n",
      "997         545.36  \n",
      "998         729.94  \n",
      "999         804.28  \n",
      "\n",
      "[1000 rows x 7 columns]\n"
     ]
    }
   ],
   "source": [
    "# Calculate Monetary Value (M)\n",
    "rfm_monetary = rfm.groupby('CustomerID')['TransactionAmount'].sum().reset_index()\n",
    "rfm_monetary.columns = ['CustomerID', 'MonetaryValue']\n",
    "rfm = rfm.merge(rfm_monetary, on='CustomerID', how='left')\n",
    "print(rfm)"
   ]
  },
  {
   "cell_type": "markdown",
   "id": "ff3b5620",
   "metadata": {
    "papermill": {
     "duration": 0.008734,
     "end_time": "2023-06-13T04:46:47.824536",
     "exception": false,
     "start_time": "2023-06-13T04:46:47.815802",
     "status": "completed"
    },
    "tags": []
   },
   "source": [
    "# Step 3: Assign RFM Scores"
   ]
  },
  {
   "cell_type": "code",
   "execution_count": 13,
   "id": "45484bca",
   "metadata": {
    "execution": {
     "iopub.execute_input": "2023-06-13T04:46:47.844552Z",
     "iopub.status.busy": "2023-06-13T04:46:47.844130Z",
     "iopub.status.idle": "2023-06-13T04:46:47.867972Z",
     "shell.execute_reply": "2023-06-13T04:46:47.866369Z"
    },
    "papermill": {
     "duration": 0.036682,
     "end_time": "2023-06-13T04:46:47.870280",
     "exception": false,
     "start_time": "2023-06-13T04:46:47.833598",
     "status": "completed"
    },
    "tags": []
   },
   "outputs": [
    {
     "name": "stdout",
     "output_type": "stream",
     "text": [
      "0      1\n",
      "1      1\n",
      "2      1\n",
      "3      1\n",
      "4      1\n",
      "      ..\n",
      "995    5\n",
      "996    5\n",
      "997    5\n",
      "998    5\n",
      "999    5\n",
      "Name: R_score, Length: 1000, dtype: category\n",
      "Categories (5, int64): [5 < 4 < 3 < 2 < 1]\n",
      "0      0\n",
      "1      0\n",
      "2      0\n",
      "3      0\n",
      "4      0\n",
      "      ..\n",
      "995    0\n",
      "996    0\n",
      "997    0\n",
      "998    0\n",
      "999    0\n",
      "Name: F_score, Length: 1000, dtype: int64\n",
      "0      5\n",
      "1      3\n",
      "2      1\n",
      "3      1\n",
      "4      4\n",
      "      ..\n",
      "995    4\n",
      "996    5\n",
      "997    3\n",
      "998    4\n",
      "999    4\n",
      "Name: M_score, Length: 1000, dtype: category\n",
      "Categories (5, int64): [1 < 2 < 3 < 4 < 5]\n"
     ]
    }
   ],
   "source": [
    "rfm['R_score'] = pd.qcut(rfm['Recency'], q=5, labels=[5, 4, 3, 2, 1])\n",
    "rfm['F_score'] = pd.qcut(rfm['Frequency'], q=5, labels=False, duplicates='drop')\n",
    "rfm['M_score'] = pd.qcut(rfm['MonetaryValue'], q=5, labels=[1, 2, 3, 4, 5])\n",
    "print(rfm['R_score'])\n",
    "print(rfm['F_score'])\n",
    "print(rfm['M_score'])"
   ]
  },
  {
   "cell_type": "markdown",
   "id": "d90726b7",
   "metadata": {
    "papermill": {
     "duration": 0.008883,
     "end_time": "2023-06-13T04:46:47.888525",
     "exception": false,
     "start_time": "2023-06-13T04:46:47.879642",
     "status": "completed"
    },
    "tags": []
   },
   "source": [
    "# step 4: Calculate RFM Score"
   ]
  },
  {
   "cell_type": "code",
   "execution_count": 14,
   "id": "3d0f0316",
   "metadata": {
    "execution": {
     "iopub.execute_input": "2023-06-13T04:46:47.908610Z",
     "iopub.status.busy": "2023-06-13T04:46:47.908197Z",
     "iopub.status.idle": "2023-06-13T04:46:47.920251Z",
     "shell.execute_reply": "2023-06-13T04:46:47.918710Z"
    },
    "papermill": {
     "duration": 0.025141,
     "end_time": "2023-06-13T04:46:47.922846",
     "exception": false,
     "start_time": "2023-06-13T04:46:47.897705",
     "status": "completed"
    },
    "tags": []
   },
   "outputs": [
    {
     "name": "stdout",
     "output_type": "stream",
     "text": [
      "0      105\n",
      "1      103\n",
      "2      101\n",
      "3      101\n",
      "4      104\n",
      "      ... \n",
      "995    504\n",
      "996    505\n",
      "997    503\n",
      "998    504\n",
      "999    504\n",
      "Name: RFM_score, Length: 1000, dtype: object\n"
     ]
    }
   ],
   "source": [
    "# Concatenate R_score, F_score, and M_score to create RFM_score\n",
    "rfm['RFM_score'] = rfm['R_score'].astype(str) + rfm['F_score'].astype(str) + rfm['M_score'].astype(str)\n",
    "print(rfm['RFM_score'])"
   ]
  },
  {
   "cell_type": "markdown",
   "id": "d130d9d0",
   "metadata": {
    "papermill": {
     "duration": 0.00936,
     "end_time": "2023-06-13T04:46:47.942384",
     "exception": false,
     "start_time": "2023-06-13T04:46:47.933024",
     "status": "completed"
    },
    "tags": []
   },
   "source": [
    "# Step 6: Analyze Segments"
   ]
  },
  {
   "cell_type": "code",
   "execution_count": 15,
   "id": "483ae93e",
   "metadata": {
    "execution": {
     "iopub.execute_input": "2023-06-13T04:46:47.963251Z",
     "iopub.status.busy": "2023-06-13T04:46:47.962802Z",
     "iopub.status.idle": "2023-06-13T04:46:47.977959Z",
     "shell.execute_reply": "2023-06-13T04:46:47.976681Z"
    },
    "papermill": {
     "duration": 0.028347,
     "end_time": "2023-06-13T04:46:47.980237",
     "exception": false,
     "start_time": "2023-06-13T04:46:47.951890",
     "status": "completed"
    },
    "tags": []
   },
   "outputs": [
    {
     "name": "stdout",
     "output_type": "stream",
     "text": [
      "             Recency  Frequency  MonetaryValue\n",
      "RFM_score                                     \n",
      "101        57.627907   1.000000     117.040465\n",
      "102        57.783784   1.027027     347.094865\n",
      "103        56.632653   1.061224     566.751837\n",
      "104        56.394737   1.105263     769.234474\n",
      "105        57.666667   1.454545    1089.948182\n",
      "201        44.857143   1.028571     123.719429\n",
      "202        45.868421   1.026316     345.010000\n",
      "203        45.928571   1.071429     567.468095\n",
      "204        45.575000   1.050000     754.867500\n",
      "205        45.363636   1.568182    1128.176591\n",
      "301        36.171429   1.028571     125.483429\n",
      "302        35.487805   1.048780     346.087317\n",
      "303        34.676471   1.058824     558.900294\n",
      "304        35.125000   1.100000     769.326000\n",
      "305        35.200000   1.400000    1089.050889\n",
      "401        20.767442   1.023256     129.488605\n",
      "402        21.560976   1.000000     321.469512\n",
      "403        21.750000   1.050000     568.269000\n",
      "404        21.658537   1.073171     761.896098\n",
      "405        21.675000   1.150000    1003.887500\n",
      "501         9.204545   1.022727     117.601591\n",
      "502         9.744186   1.046512     350.880233\n",
      "503         9.457143   1.000000     565.237714\n",
      "504         9.463415   1.024390     755.569756\n",
      "505         9.394737   1.421053    1078.908158\n"
     ]
    }
   ],
   "source": [
    "# Calculate the average RFM scores for each segment\n",
    "segment_analysis = rfm.groupby('RFM_score').agg({\n",
    "    'Recency': 'mean',\n",
    "    'Frequency': 'mean',\n",
    "    'MonetaryValue': 'mean',\n",
    "})\n",
    "print(segment_analysis)"
   ]
  },
  {
   "cell_type": "code",
   "execution_count": 16,
   "id": "cbd72dba",
   "metadata": {
    "execution": {
     "iopub.execute_input": "2023-06-13T04:46:48.001299Z",
     "iopub.status.busy": "2023-06-13T04:46:48.000843Z",
     "iopub.status.idle": "2023-06-13T04:46:48.009447Z",
     "shell.execute_reply": "2023-06-13T04:46:48.008644Z"
    },
    "papermill": {
     "duration": 0.022441,
     "end_time": "2023-06-13T04:46:48.012364",
     "exception": false,
     "start_time": "2023-06-13T04:46:47.989923",
     "status": "completed"
    },
    "tags": []
   },
   "outputs": [
    {
     "name": "stdout",
     "output_type": "stream",
     "text": [
      "             Recency  Frequency  MonetaryValue\n",
      "RFM_score                                     \n",
      "205        45.363636   1.568182    1128.176591\n"
     ]
    }
   ],
   "source": [
    "# Identify high-value customers\n",
    "high_value_customers = segment_analysis[segment_analysis['MonetaryValue'] == segment_analysis['MonetaryValue'].max()]\n",
    "print(high_value_customers)"
   ]
  },
  {
   "cell_type": "code",
   "execution_count": 17,
   "id": "22312d7e",
   "metadata": {
    "execution": {
     "iopub.execute_input": "2023-06-13T04:46:48.033941Z",
     "iopub.status.busy": "2023-06-13T04:46:48.033441Z",
     "iopub.status.idle": "2023-06-13T04:46:48.043928Z",
     "shell.execute_reply": "2023-06-13T04:46:48.042374Z"
    },
    "papermill": {
     "duration": 0.024122,
     "end_time": "2023-06-13T04:46:48.046354",
     "exception": false,
     "start_time": "2023-06-13T04:46:48.022232",
     "status": "completed"
    },
    "tags": []
   },
   "outputs": [
    {
     "name": "stdout",
     "output_type": "stream",
     "text": [
      "            Recency  Frequency  MonetaryValue\n",
      "RFM_score                                    \n",
      "501        9.204545   1.022727     117.601591\n"
     ]
    }
   ],
   "source": [
    "# Identify at-risk customers\n",
    "at_risk_customers = segment_analysis[segment_analysis['Recency'] == segment_analysis['Recency'].min()]\n",
    "print(at_risk_customers)"
   ]
  },
  {
   "cell_type": "code",
   "execution_count": 18,
   "id": "ee16373d",
   "metadata": {
    "execution": {
     "iopub.execute_input": "2023-06-13T04:46:48.068325Z",
     "iopub.status.busy": "2023-06-13T04:46:48.067884Z",
     "iopub.status.idle": "2023-06-13T04:46:48.077103Z",
     "shell.execute_reply": "2023-06-13T04:46:48.075689Z"
    },
    "papermill": {
     "duration": 0.02399,
     "end_time": "2023-06-13T04:46:48.080245",
     "exception": false,
     "start_time": "2023-06-13T04:46:48.056255",
     "status": "completed"
    },
    "tags": []
   },
   "outputs": [
    {
     "name": "stdout",
     "output_type": "stream",
     "text": [
      "Empty DataFrame\n",
      "Columns: [Recency, Frequency, MonetaryValue]\n",
      "Index: []\n"
     ]
    }
   ],
   "source": [
    "# Identify potential opportunities\n",
    "potential_opportunities = segment_analysis[(segment_analysis['Frequency']\n",
    "== segment_analysis['Frequency'].min()) & (segment_analysis['MonetaryValue'] == segment_analysis['MonetaryValue'].max())]\n",
    "print(potential_opportunities)"
   ]
  },
  {
   "cell_type": "code",
   "execution_count": null,
   "id": "742151b2",
   "metadata": {
    "papermill": {
     "duration": 0.009483,
     "end_time": "2023-06-13T04:46:48.099617",
     "exception": false,
     "start_time": "2023-06-13T04:46:48.090134",
     "status": "completed"
    },
    "tags": []
   },
   "outputs": [],
   "source": []
  }
 ],
 "metadata": {
  "kernelspec": {
   "display_name": "Python 3",
   "language": "python",
   "name": "python3"
  },
  "language_info": {
   "codemirror_mode": {
    "name": "ipython",
    "version": 3
   },
   "file_extension": ".py",
   "mimetype": "text/x-python",
   "name": "python",
   "nbconvert_exporter": "python",
   "pygments_lexer": "ipython3",
   "version": "3.10.10"
  },
  "papermill": {
   "default_parameters": {},
   "duration": 16.030249,
   "end_time": "2023-06-13T04:46:49.032690",
   "environment_variables": {},
   "exception": null,
   "input_path": "__notebook__.ipynb",
   "output_path": "__notebook__.ipynb",
   "parameters": {},
   "start_time": "2023-06-13T04:46:33.002441",
   "version": "2.4.0"
  }
 },
 "nbformat": 4,
 "nbformat_minor": 5
}
